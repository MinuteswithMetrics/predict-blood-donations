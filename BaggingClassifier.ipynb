{
 "cells": [
  {
   "cell_type": "markdown",
   "metadata": {},
   "source": [
    "# BaggingClassifier"
   ]
  },
  {
   "cell_type": "code",
   "execution_count": 48,
   "metadata": {
    "collapsed": false
   },
   "outputs": [],
   "source": [
    "from __future__      import division\n",
    "from IPython.display import display\n",
    "from matplotlib      import pyplot as plt\n",
    "%matplotlib inline\n",
    "\n",
    "import numpy  as np\n",
    "import pandas as pd\n",
    "import random, sys, os\n",
    "\n",
    "from sklearn.ensemble         import BaggingClassifier\n",
    "\n",
    "from sklearn.cross_validation import StratifiedKFold\n",
    "from sklearn.grid_search      import RandomizedSearchCV, GridSearchCV"
   ]
  },
  {
   "cell_type": "code",
   "execution_count": 49,
   "metadata": {
    "collapsed": true
   },
   "outputs": [],
   "source": [
    "SEED   = 97\n",
    "scale  = False \n",
    "minmax = False\n",
    "norm   = False\n",
    "nointercept = False\n",
    "engineering = True\n",
    "\n",
    "submission_filename = \"../submissions/submission_BaggingClassifier.csv\""
   ]
  },
  {
   "cell_type": "markdown",
   "metadata": {
    "collapsed": false
   },
   "source": [
    "# Load the training data"
   ]
  },
  {
   "cell_type": "code",
   "execution_count": 50,
   "metadata": {
    "collapsed": false
   },
   "outputs": [],
   "source": [
    "from load_blood_data import load_blood_data\n",
    "\n",
    "y_train, X_train = load_blood_data(train=True, SEED   = SEED, \n",
    "                                               scale  = scale,\n",
    "                                               minmax = minmax,\n",
    "                                               norm   = norm,\n",
    "                                               nointercept = nointercept,\n",
    "                                               engineering = engineering)"
   ]
  },
  {
   "cell_type": "markdown",
   "metadata": {},
   "source": [
    "# Train the model"
   ]
  },
  {
   "cell_type": "code",
   "execution_count": 51,
   "metadata": {
    "collapsed": false,
    "scrolled": false
   },
   "outputs": [
    {
     "name": "stdout",
     "output_type": "stream",
     "text": [
      "CPU times: user 48 ms, sys: 56 ms, total: 104 ms\n",
      "Wall time: 188 ms\n"
     ]
    }
   ],
   "source": [
    "%%time\n",
    "\n",
    "random.seed(SEED)\n",
    "\n",
    "clf = BaggingClassifier(base_estimator     = None, \n",
    "                        n_estimators       = 10, \n",
    "                        max_samples        = 1.0, \n",
    "                        max_features       = 1.0, \n",
    "                        bootstrap          = True, \n",
    "                        bootstrap_features = False, \n",
    "                        \n",
    "                        oob_score          = False, \n",
    "                        warm_start         = False, \n",
    "                        n_jobs             = -1, \n",
    "                        random_state       = SEED, \n",
    "                        verbose            = 0)\n",
    "\n",
    "\n",
    "\n",
    "# StatifiedCV = StratifiedKFold(y            = y_train, \n",
    "#                               n_folds      = 10, \n",
    "#                               shuffle      = True, \n",
    "#                               random_state = SEED)\n",
    "\n",
    "# param_grid = dict(n_estimators       = [10, 50, 100, 150, 200, 250, 500],\n",
    "#                   max_samples        = [0.25, 0.50, 0.75, 1.0],\n",
    "#                   max_features       = [0.25, 0.50, 0.75, 1.0],\n",
    "#                   bootstrap          = [True, False],\n",
    "#                   bootstrap_features = [True, False])\n",
    "\n",
    "# grid_clf = GridSearchCV(estimator  = clf, \n",
    "#                         param_grid = param_grid,\n",
    "#                         n_jobs     = -1,  \n",
    "#                         cv         = StatifiedCV,\n",
    "#                         verbose    = 0\n",
    "#                        )\n",
    "\n",
    "# grid_clf.fit(X = X_train, y = y_train)\n",
    "\n",
    "# print(\"clf_params = {}\".format(grid_clf.best_params_))\n",
    "# print(\"score: {}\".format(round(grid_clf.best_score_, 4)))\n",
    "# print\n",
    "\n",
    "# clf = grid_clf.best_estimator_\n",
    "\n",
    "\n",
    "\n",
    "\n",
    "clf_params = {'max_features': 0.5, 'max_samples': 0.25, 'bootstrap': False, \n",
    "              'n_estimators': 200, 'bootstrap_features': True}\n",
    "clf.set_params(**clf_params)\n",
    "clf.fit(X_train, y_train)"
   ]
  },
  {
   "cell_type": "code",
   "execution_count": 52,
   "metadata": {
    "collapsed": false
   },
   "outputs": [],
   "source": [
    "# from sklearn_utilities import GridSearchHeatmap\n",
    "\n",
    "# GridSearchHeatmap(grid_clf, y_key='learning_rate', x_key='n_estimators')\n",
    "\n",
    "# from sklearn_utilities import plot_validation_curves\n",
    "\n",
    "# plot_validation_curves(grid_clf, param_grid, X_train, y_train, ylim = (0.0, 1.05))"
   ]
  },
  {
   "cell_type": "code",
   "execution_count": 53,
   "metadata": {
    "collapsed": false
   },
   "outputs": [
    {
     "data": {
      "image/png": "[encoded data removed]",
      "text/plain": [
       "<matplotlib.figure.Figure at 0x7f539d7ce7d0>"
      ]
     },
     "metadata": {},
     "output_type": "display_data"
    },
    {
     "name": "stdout",
     "output_type": "stream",
     "text": [
      "CPU times: user 11.1 s, sys: 8.33 s, total: 19.4 s\n",
      "Wall time: 29.6 s\n"
     ]
    }
   ],
   "source": [
    "%%time\n",
    "\n",
    "try:\n",
    "    from sklearn_utilities import plot_learning_curve\n",
    "except:\n",
    "    import imp, os\n",
    "    util = imp.load_source('sklearn_utilities', os.path.expanduser('~/Dropbox/Python/sklearn_utilities.py'))\n",
    "    from sklearn_utilities import plot_learning_curve\n",
    "\n",
    "plot_learning_curve(estimator   = clf, \n",
    "                    title       = None, \n",
    "                    X           = X_train, \n",
    "                    y           = y_train, \n",
    "                    ylim        = (0.0, 1.10), \n",
    "                    cv          = StratifiedKFold(y            = y_train, \n",
    "                                                  n_folds      = 10, \n",
    "                                                  shuffle      = True, \n",
    "                                                  random_state = SEED), \n",
    "                    train_sizes = np.linspace(.1, 1.0, 5),\n",
    "                    n_jobs      = 1)\n",
    "\n",
    "plt.show()"
   ]
  },
  {
   "cell_type": "markdown",
   "metadata": {},
   "source": [
    "# Training set predictions"
   ]
  },
  {
   "cell_type": "code",
   "execution_count": 54,
   "metadata": {
    "collapsed": false
   },
   "outputs": [],
   "source": [
    "predicted_values = clf.predict(X_train)\n",
    "y_true, y_pred   = y_train, predicted_values\n",
    "\n",
    "try:\n",
    "    predicted_probs  = clf.predict_proba(X_train)\n",
    "    probs_avail = True\n",
    "except AttributeError,e:\n",
    "    probs_avail = False\n",
    "    print(e)"
   ]
  },
  {
   "cell_type": "code",
   "execution_count": 55,
   "metadata": {
    "collapsed": false
   },
   "outputs": [
    {
     "name": "stdout",
     "output_type": "stream",
     "text": [
      "[[429   9]\n",
      " [ 77  61]]\n"
     ]
    },
    {
     "data": {
      "image/png": "[encoded data removed]",
      "text/plain": [
       "<matplotlib.figure.Figure at 0x7f5369774090>"
      ]
     },
     "metadata": {},
     "output_type": "display_data"
    },
    {
     "name": "stdout",
     "output_type": "stream",
     "text": [
      "Accuracy 0.8507, mis-class rate 0.1493\n"
     ]
    }
   ],
   "source": [
    "from sklearn.metrics import confusion_matrix\n",
    "cm = confusion_matrix(y_true, y_pred, labels=None)\n",
    "print cm\n",
    "\n",
    "try:\n",
    "    from sklearn_utilities import plot_confusion_matrix\n",
    "except:\n",
    "    import imp, os\n",
    "    util = imp.load_source('sklearn_utilities', os.path.expanduser('~/Dropbox/Python/sklearn_utilities.py'))\n",
    "    from sklearn_utilities import plot_confusion_matrix\n",
    "\n",
    "plot_confusion_matrix(cm, ['Did not Donate','Donated'])\n",
    "\n",
    "accuracy = round(np.trace(cm)/float(np.sum(cm)),4)\n",
    "misclass = 1 - accuracy\n",
    "print(\"Accuracy {}, mis-class rate {}\".format(accuracy,misclass))"
   ]
  },
  {
   "cell_type": "code",
   "execution_count": 56,
   "metadata": {
    "collapsed": false
   },
   "outputs": [
    {
     "data": {
      "image/png": "[encoded data removed]",
      "text/plain": [
       "<matplotlib.figure.Figure at 0x7f5370baf690>"
      ]
     },
     "metadata": {},
     "output_type": "display_data"
    }
   ],
   "source": [
    "from sklearn.metrics import roc_curve\n",
    "from sklearn.metrics import roc_auc_score\n",
    "from sklearn.metrics import log_loss\n",
    "from sklearn.metrics import f1_score\n",
    "\n",
    "fpr, tpr, thresholds = roc_curve(y_true, y_pred, pos_label=None)\n",
    "\n",
    "\n",
    "plt.figure(figsize=(10,6))\n",
    "plt.plot([0, 1], [0, 1], 'k--')\n",
    "plt.plot(fpr, tpr)\n",
    "\n",
    "plt.text(x=0.6,y=0.4,s=\"AUC         {:.4f}\"\\\n",
    "         .format(roc_auc_score(y_true, y_pred, average='macro')),\n",
    "        fontsize=16)\n",
    "\n",
    "plt.text(x=0.6,y=0.3,s=\"accuracy {:.2f}%\"\\\n",
    "         .format(accuracy*100),\n",
    "        fontsize=16)\n",
    "\n",
    "plt.text(x=0.6,y=0.2,s=\"LogLoss   {:.4f}\"\\\n",
    "         .format(log_loss(y_true, y_pred)),\n",
    "        fontsize=16)\n",
    "\n",
    "plt.text(x=0.6,y=0.1,s=\"f1            {:.4f}\"\\\n",
    "         .format(f1_score(y_true, y_pred)),\n",
    "        fontsize=16)\n",
    "\n",
    "plt.xlabel('False positive rate')\n",
    "plt.ylabel('True positive rate')\n",
    "plt.title('ROC curve')\n",
    "plt.show()"
   ]
  },
  {
   "cell_type": "markdown",
   "metadata": {},
   "source": [
    "# --------------------------------------------------------------------------------------------"
   ]
  },
  {
   "cell_type": "markdown",
   "metadata": {
    "collapsed": true
   },
   "source": [
    "# Test Set Predictions"
   ]
  },
  {
   "cell_type": "markdown",
   "metadata": {},
   "source": [
    "## Load the test data"
   ]
  },
  {
   "cell_type": "code",
   "execution_count": 57,
   "metadata": {
    "collapsed": false
   },
   "outputs": [],
   "source": [
    "from load_blood_data import load_blood_data\n",
    "\n",
    "X_test, IDs = load_blood_data(train=False, SEED   = SEED, \n",
    "                                           scale  = scale,\n",
    "                                           minmax = minmax,\n",
    "                                           norm   = norm,\n",
    "                                           nointercept = nointercept,\n",
    "                                           engineering = engineering)"
   ]
  },
  {
   "cell_type": "markdown",
   "metadata": {},
   "source": [
    "# Predict the test set with the fitted model"
   ]
  },
  {
   "cell_type": "code",
   "execution_count": 58,
   "metadata": {
    "collapsed": true
   },
   "outputs": [],
   "source": [
    "y_pred        = clf.predict(X_test)\n",
    "if probs_avail:\n",
    "    y_pred_probs  = clf.predict_proba(X_test)\n",
    "    donate_probs  = [prob[1] for prob in y_pred_probs]\n",
    "else:\n",
    "    donate_probs = [0.65 if x>0 else 1-0.65 for x in y_pred]"
   ]
  },
  {
   "cell_type": "code",
   "execution_count": 59,
   "metadata": {
    "collapsed": false
   },
   "outputs": [
    {
     "name": "stdout",
     "output_type": "stream",
     "text": [
      "[1 0 0 0 1 1 0 0 0 0]\n",
      "[[ 0.42483333  0.57516667]\n",
      " [ 0.83665801  0.16334199]\n",
      " [ 0.89266464  0.10733536]\n",
      " [ 0.77145238  0.22854762]\n",
      " [ 0.41733333  0.58266667]\n",
      " [ 0.30433333  0.69566667]\n",
      " [ 0.73514267  0.26485733]\n",
      " [ 0.9740983   0.0259017 ]\n",
      " [ 0.92888784  0.07111216]\n",
      " [ 0.97692216  0.02307784]]\n",
      "[0.5751666666666666, 0.16334199134199132, 0.1073353643019939, 0.22854761904761905, 0.58266666666666667, 0.69566666666666666, 0.26485732688364266, 0.025901700743330331, 0.071112155388471182, 0.023077838827838829]\n"
     ]
    }
   ],
   "source": [
    "print(y_pred[:10])\n",
    "if probs_avail: print(y_pred_probs[:10])\n",
    "print(donate_probs[:10])"
   ]
  },
  {
   "cell_type": "markdown",
   "metadata": {},
   "source": [
    "# Create the submission file"
   ]
  },
  {
   "cell_type": "code",
   "execution_count": 60,
   "metadata": {
    "collapsed": false
   },
   "outputs": [],
   "source": [
    "assert len(IDs)==len(donate_probs)\n",
    "\n",
    "f = open(submission_filename, \"w\")\n",
    "\n",
    "f.write(\",Made Donation in March 2007\\n\")\n",
    "for ID, prob in zip(IDs, donate_probs):\n",
    "    f.write(\"{},{}\\n\".format(ID,prob))\n",
    "    \n",
    "f.close()"
   ]
  },
  {
   "cell_type": "code",
   "execution_count": null,
   "metadata": {
    "collapsed": true
   },
   "outputs": [],
   "source": []
  }
 ],
 "metadata": {
  "kernelspec": {
   "display_name": "Python 2",
   "language": "python",
   "name": "python2"
  },
  "language_info": {
   "codemirror_mode": {
    "name": "ipython",
    "version": 2
   },
   "file_extension": ".py",
   "mimetype": "text/x-python",
   "name": "python",
   "nbconvert_exporter": "python",
   "pygments_lexer": "ipython2",
   "version": "2.7.10"
  }
 },
 "nbformat": 4,
 "nbformat_minor": 0
}
