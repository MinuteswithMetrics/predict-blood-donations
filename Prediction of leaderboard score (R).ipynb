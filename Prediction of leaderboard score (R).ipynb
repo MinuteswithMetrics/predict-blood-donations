{
 "cells": [
  {
   "cell_type": "markdown",
   "metadata": {},
   "source": [
    "# Prediction of leaderboard score (R)"
   ]
  },
  {
   "cell_type": "code",
   "execution_count": 5,
   "metadata": {
    "collapsed": false
   },
   "outputs": [
    {
     "data": {
      "text/html": [
       "<table>\n",
       "<thead><tr><th></th><th scope=col>model</th><th scope=col>score</th><th scope=col>accuracy</th><th scope=col>logloss</th><th scope=col>AUC</th><th scope=col>f1</th></tr></thead>\n",
       "<tbody>\n",
       "\t<tr><th scope=row>3</th><td>GradientBoostingClassifier </td><td>0.4452</td><td>0.8177</td><td>6.2962</td><td>0.6717</td><td>0.507</td></tr>\n",
       "\t<tr><th scope=row>1</th><td>nolearn                    </td><td>0.4566</td><td>0.8056</td><td>6.7159</td><td>0.6711</td><td>0.5044</td></tr>\n",
       "\t<tr><th scope=row>4</th><td>ExtraTreesClassifier       </td><td>0.4729</td><td>0.8402</td><td>5.5467</td><td>0.71</td><td>0.5806</td></tr>\n",
       "\t<tr><th scope=row>5</th><td>XGBClassifier              </td><td>0.4851</td><td>0.842</td><td>5.4567</td><td>0.71</td><td>0.5806</td></tr>\n",
       "\t<tr><th scope=row>13</th><td>BaggingClassifier          </td><td>0.4885</td><td>0.8507</td><td>5.1568</td><td>0.7107</td><td>0.5865</td></tr>\n",
       "\t<tr><th scope=row>2</th><td>ensemble of averages       </td><td>0.4896</td><td>NA</td><td>NA</td><td>NA</td><td>NA</td></tr>\n",
       "\t<tr><th scope=row>11</th><td>SVC                        </td><td>0.5336</td><td>0.9375</td><td>2.1587</td><td>0.8745</td><td>0.8525</td></tr>\n",
       "\t<tr><th scope=row>6</th><td>SGDClassifier              </td><td>0.567</td><td>0.75</td><td>8.6348</td><td>0.6545</td><td>0.4745</td></tr>\n",
       "\t<tr><th scope=row>7</th><td>cosine_similarity          </td><td>0.5732</td><td>0.7906</td><td>7.2333</td><td>0.6452</td><td>0.4595</td></tr>\n",
       "\t<tr><th scope=row>8</th><td>AdaBoostClassifier         </td><td>0.6642</td><td>0.809</td><td>6.596</td><td>0.6635</td><td>0.4907</td></tr>\n",
       "\t<tr><th scope=row>9</th><td>KNeighborsClassifier       </td><td>1.187</td><td>0.8142</td><td>6.4161</td><td>0.662</td><td>0.488</td></tr>\n",
       "\t<tr><th scope=row>10</th><td>RandomForestClassifier     </td><td>1.7907</td><td>0.9184</td><td>2.8183</td><td>0.852</td><td>0.8097</td></tr>\n",
       "\t<tr><th scope=row>12</th><td>KMeans                     </td><td>NA</td><td>0.7326</td><td>9.2324</td><td>0.5636</td><td>0.3</td></tr>\n",
       "\t<tr><th scope=row>14</th><td>LogisticRegression         </td><td>NA</td><td>0.776</td><td>7.7353</td><td>0.5649</td><td>0.2543</td></tr>\n",
       "\t<tr><th scope=row>15</th><td>LogisticRegressionCV       </td><td>NA</td><td>0.783</td><td>7.4954</td><td>0.5794</td><td>0.2938</td></tr>\n",
       "</tbody>\n",
       "</table>\n"
      ],
      "text/latex": [
       "\\begin{tabular}{r|llllll}\n",
       "  & model & score & accuracy & logloss & AUC & f1\\\\\n",
       "\\hline\n",
       "\t3 & GradientBoostingClassifier  & 0.4452 & 0.8177 & 6.2962 & 0.6717 & 0.507\\\\\n",
       "\t1 & nolearn                     & 0.4566 & 0.8056 & 6.7159 & 0.6711 & 0.5044\\\\\n",
       "\t4 & ExtraTreesClassifier        & 0.4729 & 0.8402 & 5.5467 & 0.71 & 0.5806\\\\\n",
       "\t5 & XGBClassifier               & 0.4851 & 0.842 & 5.4567 & 0.71 & 0.5806\\\\\n",
       "\t13 & BaggingClassifier           & 0.4885 & 0.8507 & 5.1568 & 0.7107 & 0.5865\\\\\n",
       "\t2 & ensemble of averages        & 0.4896 & NA & NA & NA & NA\\\\\n",
       "\t11 & SVC                         & 0.5336 & 0.9375 & 2.1587 & 0.8745 & 0.8525\\\\\n",
       "\t6 & SGDClassifier               & 0.567 & 0.75 & 8.6348 & 0.6545 & 0.4745\\\\\n",
       "\t7 & cosine_similarity           & 0.5732 & 0.7906 & 7.2333 & 0.6452 & 0.4595\\\\\n",
       "\t8 & AdaBoostClassifier          & 0.6642 & 0.809 & 6.596 & 0.6635 & 0.4907\\\\\n",
       "\t9 & KNeighborsClassifier        & 1.187 & 0.8142 & 6.4161 & 0.662 & 0.488\\\\\n",
       "\t10 & RandomForestClassifier      & 1.7907 & 0.9184 & 2.8183 & 0.852 & 0.8097\\\\\n",
       "\t12 & KMeans                      & NA & 0.7326 & 9.2324 & 0.5636 & 0.3\\\\\n",
       "\t14 & LogisticRegression          & NA & 0.776 & 7.7353 & 0.5649 & 0.2543\\\\\n",
       "\t15 & LogisticRegressionCV        & NA & 0.783 & 7.4954 & 0.5794 & 0.2938\\\\\n",
       "\\end{tabular}\n"
      ],
      "text/plain": [
       "                         model  score accuracy logloss    AUC     f1\n",
       "3  GradientBoostingClassifier  0.4452   0.8177  6.2962 0.6717 0.5070\n",
       "1  nolearn                     0.4566   0.8056  6.7159 0.6711 0.5044\n",
       "4  ExtraTreesClassifier        0.4729   0.8402  5.5467 0.7100 0.5806\n",
       "5  XGBClassifier               0.4851   0.8420  5.4567 0.7100 0.5806\n",
       "13 BaggingClassifier           0.4885   0.8507  5.1568 0.7107 0.5865\n",
       "2  ensemble of averages        0.4896       NA      NA     NA     NA\n",
       "11 SVC                         0.5336   0.9375  2.1587 0.8745 0.8525\n",
       "6  SGDClassifier               0.5670   0.7500  8.6348 0.6545 0.4745\n",
       "7  cosine_similarity           0.5732   0.7906  7.2333 0.6452 0.4595\n",
       "8  AdaBoostClassifier          0.6642   0.8090  6.5960 0.6635 0.4907\n",
       "9  KNeighborsClassifier        1.1870   0.8142  6.4161 0.6620 0.4880\n",
       "10 RandomForestClassifier      1.7907   0.9184  2.8183 0.8520 0.8097\n",
       "12 KMeans                          NA   0.7326  9.2324 0.5636 0.3000\n",
       "14 LogisticRegression              NA   0.7760  7.7353 0.5649 0.2543\n",
       "15 LogisticRegressionCV            NA   0.7830  7.4954 0.5794 0.2938"
      ]
     },
     "execution_count": 5,
     "metadata": {},
     "output_type": "execute_result"
    }
   ],
   "source": [
    "score_data = read.csv('../input/scores.csv')\n",
    "score_data[with(score_data, order(score)), ]"
   ]
  },
  {
   "cell_type": "code",
   "execution_count": 2,
   "metadata": {
    "collapsed": false
   },
   "outputs": [
    {
     "data": {
      "text/plain": [
       "\n",
       "Call:\n",
       "lm(formula = score ~ . - model, data = score_data, na.action = na.omit)\n",
       "\n",
       "Residuals:\n",
       "     Min       1Q   Median       3Q      Max \n",
       "-0.56419 -0.18279  0.03077  0.12517  0.58682 \n",
       "\n",
       "Coefficients:\n",
       "              Estimate Std. Error t value Pr(>|t|)\n",
       "(Intercept) -28.260023 599.415508  -0.047    0.964\n",
       "accuracy      5.013873 592.710068   0.008    0.994\n",
       "logloss      -0.007427  17.131772   0.000    1.000\n",
       "AUC          67.531792  44.685374   1.511    0.181\n",
       "f1          -40.332209  27.682242  -1.457    0.195\n",
       "\n",
       "Residual standard error: 0.4096 on 6 degrees of freedom\n",
       "  (4 observations deleted due to missingness)\n",
       "Multiple R-squared:  0.4267,\tAdjusted R-squared:  0.04443 \n",
       "F-statistic: 1.116 on 4 and 6 DF,  p-value: 0.4297\n"
      ]
     },
     "execution_count": 2,
     "metadata": {},
     "output_type": "execute_result"
    }
   ],
   "source": [
    "lm.fit = lm(score ~ .-model, \n",
    "            data      = score_data, \n",
    "            na.action = na.omit)\n",
    "summary(lm.fit)"
   ]
  },
  {
   "cell_type": "code",
   "execution_count": 3,
   "metadata": {
    "collapsed": false
   },
   "outputs": [
    {
     "name": "stdout",
     "output_type": "stream",
     "text": [
      "Start:  AIC=-16.3\n",
      "score ~ (model + accuracy + logloss + AUC + f1) - model\n",
      "\n",
      "           Df Sum of Sq    RSS     AIC\n",
      "- logloss   1   0.00000 1.0068 -18.302\n",
      "- accuracy  1   0.00001 1.0068 -18.302\n",
      "<none>                  1.0068 -16.302\n",
      "- f1        1   0.35621 1.3630 -14.970\n",
      "- AUC       1   0.38326 1.3901 -14.754\n",
      "\n",
      "Step:  AIC=-18.3\n",
      "score ~ accuracy + AUC + f1\n",
      "\n",
      "           Df Sum of Sq    RSS     AIC\n",
      "- accuracy  1   0.06268 1.0695 -19.638\n",
      "<none>                  1.0068 -18.302\n",
      "- f1        1   0.42402 1.4308 -16.436\n",
      "+ logloss   1   0.00000 1.0068 -16.302\n",
      "- AUC       1   0.46008 1.4669 -16.162\n",
      "\n",
      "Step:  AIC=-19.64\n",
      "score ~ AUC + f1\n",
      "\n",
      "           Df Sum of Sq    RSS     AIC\n",
      "<none>                  1.0695 -19.638\n",
      "- f1        1   0.36771 1.4372 -18.387\n",
      "+ accuracy  1   0.06268 1.0068 -18.302\n",
      "+ logloss   1   0.06267 1.0068 -18.302\n",
      "- AUC       1   0.39750 1.4670 -18.161\n"
     ]
    },
    {
     "data": {
      "text/plain": [
       "\n",
       "Call:\n",
       "lm(formula = score ~ AUC + f1, data = score_data, na.action = na.omit)\n",
       "\n",
       "Residuals:\n",
       "     Min       1Q   Median       3Q      Max \n",
       "-0.57080 -0.17375 -0.04049  0.10289  0.59087 \n",
       "\n",
       "Coefficients:\n",
       "            Estimate Std. Error t value Pr(>|t|)\n",
       "(Intercept)   -21.72      12.59  -1.726    0.123\n",
       "AUC            58.00      33.63   1.724    0.123\n",
       "f1            -32.72      19.73  -1.658    0.136\n",
       "\n",
       "Residual standard error: 0.3656 on 8 degrees of freedom\n",
       "  (4 observations deleted due to missingness)\n",
       "Multiple R-squared:  0.391,\tAdjusted R-squared:  0.2387 \n",
       "F-statistic: 2.568 on 2 and 8 DF,  p-value: 0.1376\n"
      ]
     },
     "execution_count": 3,
     "metadata": {},
     "output_type": "execute_result"
    }
   ],
   "source": [
    "slm.fit = step(lm.fit, direction = \"both\")\n",
    "summary(slm.fit)"
   ]
  },
  {
   "cell_type": "code",
   "execution_count": 4,
   "metadata": {
    "collapsed": false
   },
   "outputs": [
    {
     "data": {
      "text/plain": [
       "\n",
       "\n",
       "|   |model                      |  score| accuracy| logloss|    AUC|     f1|\n",
       "|:--|:--------------------------|------:|--------:|-------:|------:|------:|\n",
       "|3  |GradientBoostingClassifier | 0.4452|   0.8177|  6.2962| 0.6717| 0.5070|\n",
       "|1  |nolearn                    | 0.4566|   0.8056|  6.7159| 0.6711| 0.5044|\n",
       "|4  |ExtraTreesClassifier       | 0.4729|   0.8402|  5.5467| 0.7100| 0.5806|\n",
       "|5  |XGBClassifier              | 0.4851|   0.8420|  5.4567| 0.7100| 0.5806|\n",
       "|13 |BaggingClassifier          | 0.4885|   0.8507|  5.1568| 0.7107| 0.5865|\n",
       "|2  |ensemble of averages       | 0.4896|       NA|      NA|     NA|     NA|\n",
       "|11 |SVC                        | 0.5336|   0.9375|  2.1587| 0.8745| 0.8525|\n",
       "|6  |SGDClassifier              | 0.5670|   0.7500|  8.6348| 0.6545| 0.4745|\n",
       "|7  |cosine_similarity          | 0.5732|   0.7906|  7.2333| 0.6452| 0.4595|\n",
       "|8  |AdaBoostClassifier         | 0.6642|   0.8090|  6.5960| 0.6635| 0.4907|\n",
       "|9  |KNeighborsClassifier       | 1.1870|   0.8142|  6.4161| 0.6620| 0.4880|\n",
       "|10 |RandomForestClassifier     | 1.7907|   0.9184|  2.8183| 0.8520| 0.8097|\n",
       "|12 |KMeans                     |     NA|   0.7326|  9.2324| 0.5636| 0.3000|\n",
       "|14 |LogisticRegression         |     NA|   0.7760|  7.7353| 0.5649| 0.2543|\n",
       "|15 |LogisticRegressionCV       |     NA|   0.7830|  7.4954| 0.5794| 0.2938|"
      ]
     },
     "execution_count": 4,
     "metadata": {},
     "output_type": "execute_result"
    }
   ],
   "source": [
    "score_data = score_data[with(score_data, order(score)), ]\n",
    "\n",
    "library(knitr)\n",
    "kable(score_data, format = \"markdown\", digits = 4)"
   ]
  },
  {
   "cell_type": "code",
   "execution_count": null,
   "metadata": {
    "collapsed": true
   },
   "outputs": [],
   "source": []
  }
 ],
 "metadata": {
  "kernelspec": {
   "display_name": "R",
   "language": "R",
   "name": "ir"
  },
  "language_info": {
   "codemirror_mode": "r",
   "file_extension": ".r",
   "mimetype": "text/x-r-source",
   "name": "R",
   "pygments_lexer": "r",
   "version": "3.2.2"
  }
 },
 "nbformat": 4,
 "nbformat_minor": 0
}
