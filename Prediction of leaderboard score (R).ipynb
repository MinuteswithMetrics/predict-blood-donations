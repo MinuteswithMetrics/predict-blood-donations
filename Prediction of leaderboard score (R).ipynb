{
 "cells": [
  {
   "cell_type": "markdown",
   "metadata": {},
   "source": [
    "# Prediction of leaderboard score (R)"
   ]
  },
  {
   "cell_type": "code",
   "execution_count": 1,
   "metadata": {
    "collapsed": false
   },
   "outputs": [
    {
     "data": {
      "text/html": [
       "<table>\n",
       "<thead><tr><th></th><th scope=col>model</th><th scope=col>score</th><th scope=col>accuracy</th><th scope=col>logloss</th><th scope=col>AUC</th><th scope=col>f1</th></tr></thead>\n",
       "<tbody>\n",
       "\t<tr><th scope=row>14</th><td>LogisticRegression         </td><td>0.4411</td><td>0.776</td><td>7.7353</td><td>0.5649</td><td>0.2543</td></tr>\n",
       "\t<tr><th scope=row>3</th><td>GradientBoostingClassifier </td><td>0.4452</td><td>0.8177</td><td>6.2962</td><td>0.6717</td><td>0.507</td></tr>\n",
       "\t<tr><th scope=row>15</th><td>LogisticRegressionCV       </td><td>0.4457</td><td>0.783</td><td>7.4954</td><td>0.5794</td><td>0.2938</td></tr>\n",
       "\t<tr><th scope=row>1</th><td>nolearn                    </td><td>0.4566</td><td>0.8056</td><td>6.7159</td><td>0.6711</td><td>0.5044</td></tr>\n",
       "\t<tr><th scope=row>4</th><td>ExtraTreesClassifier       </td><td>0.4729</td><td>0.8402</td><td>5.5467</td><td>0.71</td><td>0.5806</td></tr>\n",
       "\t<tr><th scope=row>5</th><td>XGBClassifier              </td><td>0.4851</td><td>0.842</td><td>5.4567</td><td>0.71</td><td>0.5806</td></tr>\n",
       "\t<tr><th scope=row>13</th><td>BaggingClassifier          </td><td>0.4885</td><td>0.8507</td><td>5.1568</td><td>0.7107</td><td>0.5865</td></tr>\n",
       "\t<tr><th scope=row>2</th><td>ensemble of averages       </td><td>0.4896</td><td>NA</td><td>NA</td><td>NA</td><td>NA</td></tr>\n",
       "\t<tr><th scope=row>11</th><td>SVC                        </td><td>0.5336</td><td>0.9375</td><td>2.1587</td><td>0.8745</td><td>0.8525</td></tr>\n",
       "\t<tr><th scope=row>6</th><td>SGDClassifier              </td><td>0.567</td><td>0.75</td><td>8.6348</td><td>0.6545</td><td>0.4745</td></tr>\n",
       "\t<tr><th scope=row>7</th><td>cosine_similarity          </td><td>0.5732</td><td>0.7906</td><td>7.2333</td><td>0.6452</td><td>0.4595</td></tr>\n",
       "\t<tr><th scope=row>12</th><td>KMeans                     </td><td>0.6289</td><td>0.7326</td><td>9.2324</td><td>0.5636</td><td>0.3</td></tr>\n",
       "\t<tr><th scope=row>8</th><td>AdaBoostClassifier         </td><td>0.6642</td><td>0.809</td><td>6.596</td><td>0.6635</td><td>0.4907</td></tr>\n",
       "\t<tr><th scope=row>9</th><td>KNeighborsClassifier       </td><td>1.187</td><td>0.8142</td><td>6.4161</td><td>0.662</td><td>0.488</td></tr>\n",
       "\t<tr><th scope=row>10</th><td>RandomForestClassifier     </td><td>1.7907</td><td>0.9184</td><td>2.8183</td><td>0.852</td><td>0.8097</td></tr>\n",
       "\t<tr><th scope=row>16</th><td>voting_ensemble_hard       </td><td>NA</td><td>0.8177</td><td>6.2962</td><td>0.6618</td><td>0.4878</td></tr>\n",
       "\t<tr><th scope=row>17</th><td>voting_ensemble_soft       </td><td>NA</td><td>0.8177</td><td>6.2962</td><td>0.6618</td><td>0.4878</td></tr>\n",
       "\t<tr><th scope=row>18</th><td>bagged_gbc                 </td><td>NA</td><td>0.8108</td><td>6.536</td><td>0.6572</td><td>0.4785</td></tr>\n",
       "\t<tr><th scope=row>19</th><td>boosted_svc                </td><td>NA</td><td>0.7813</td><td>7.5554</td><td>0.5435</td><td>0.16</td></tr>\n",
       "</tbody>\n",
       "</table>\n"
      ],
      "text/latex": [
       "\\begin{tabular}{r|llllll}\n",
       "  & model & score & accuracy & logloss & AUC & f1\\\\\n",
       "\\hline\n",
       "\t14 & LogisticRegression          & 0.4411 & 0.776 & 7.7353 & 0.5649 & 0.2543\\\\\n",
       "\t3 & GradientBoostingClassifier  & 0.4452 & 0.8177 & 6.2962 & 0.6717 & 0.507\\\\\n",
       "\t15 & LogisticRegressionCV        & 0.4457 & 0.783 & 7.4954 & 0.5794 & 0.2938\\\\\n",
       "\t1 & nolearn                     & 0.4566 & 0.8056 & 6.7159 & 0.6711 & 0.5044\\\\\n",
       "\t4 & ExtraTreesClassifier        & 0.4729 & 0.8402 & 5.5467 & 0.71 & 0.5806\\\\\n",
       "\t5 & XGBClassifier               & 0.4851 & 0.842 & 5.4567 & 0.71 & 0.5806\\\\\n",
       "\t13 & BaggingClassifier           & 0.4885 & 0.8507 & 5.1568 & 0.7107 & 0.5865\\\\\n",
       "\t2 & ensemble of averages        & 0.4896 & NA & NA & NA & NA\\\\\n",
       "\t11 & SVC                         & 0.5336 & 0.9375 & 2.1587 & 0.8745 & 0.8525\\\\\n",
       "\t6 & SGDClassifier               & 0.567 & 0.75 & 8.6348 & 0.6545 & 0.4745\\\\\n",
       "\t7 & cosine_similarity           & 0.5732 & 0.7906 & 7.2333 & 0.6452 & 0.4595\\\\\n",
       "\t12 & KMeans                      & 0.6289 & 0.7326 & 9.2324 & 0.5636 & 0.3\\\\\n",
       "\t8 & AdaBoostClassifier          & 0.6642 & 0.809 & 6.596 & 0.6635 & 0.4907\\\\\n",
       "\t9 & KNeighborsClassifier        & 1.187 & 0.8142 & 6.4161 & 0.662 & 0.488\\\\\n",
       "\t10 & RandomForestClassifier      & 1.7907 & 0.9184 & 2.8183 & 0.852 & 0.8097\\\\\n",
       "\t16 & voting_ensemble_hard        & NA & 0.8177 & 6.2962 & 0.6618 & 0.4878\\\\\n",
       "\t17 & voting_ensemble_soft        & NA & 0.8177 & 6.2962 & 0.6618 & 0.4878\\\\\n",
       "\t18 & bagged_gbc                  & NA & 0.8108 & 6.536 & 0.6572 & 0.4785\\\\\n",
       "\t19 & boosted_svc                 & NA & 0.7813 & 7.5554 & 0.5435 & 0.16\\\\\n",
       "\\end{tabular}\n"
      ],
      "text/plain": [
       "                         model  score accuracy logloss    AUC     f1\n",
       "14 LogisticRegression          0.4411   0.7760  7.7353 0.5649 0.2543\n",
       "3  GradientBoostingClassifier  0.4452   0.8177  6.2962 0.6717 0.5070\n",
       "15 LogisticRegressionCV        0.4457   0.7830  7.4954 0.5794 0.2938\n",
       "1  nolearn                     0.4566   0.8056  6.7159 0.6711 0.5044\n",
       "4  ExtraTreesClassifier        0.4729   0.8402  5.5467 0.7100 0.5806\n",
       "5  XGBClassifier               0.4851   0.8420  5.4567 0.7100 0.5806\n",
       "13 BaggingClassifier           0.4885   0.8507  5.1568 0.7107 0.5865\n",
       "2  ensemble of averages        0.4896       NA      NA     NA     NA\n",
       "11 SVC                         0.5336   0.9375  2.1587 0.8745 0.8525\n",
       "6  SGDClassifier               0.5670   0.7500  8.6348 0.6545 0.4745\n",
       "7  cosine_similarity           0.5732   0.7906  7.2333 0.6452 0.4595\n",
       "12 KMeans                      0.6289   0.7326  9.2324 0.5636 0.3000\n",
       "8  AdaBoostClassifier          0.6642   0.8090  6.5960 0.6635 0.4907\n",
       "9  KNeighborsClassifier        1.1870   0.8142  6.4161 0.6620 0.4880\n",
       "10 RandomForestClassifier      1.7907   0.9184  2.8183 0.8520 0.8097\n",
       "16 voting_ensemble_hard            NA   0.8177  6.2962 0.6618 0.4878\n",
       "17 voting_ensemble_soft            NA   0.8177  6.2962 0.6618 0.4878\n",
       "18 bagged_gbc                      NA   0.8108  6.5360 0.6572 0.4785\n",
       "19 boosted_svc                     NA   0.7813  7.5554 0.5435 0.1600"
      ]
     },
     "execution_count": 1,
     "metadata": {},
     "output_type": "execute_result"
    }
   ],
   "source": [
    "score_data = read.csv('../input/scores.csv')\n",
    "score_data[with(score_data, order(score)), ]"
   ]
  },
  {
   "cell_type": "code",
   "execution_count": 2,
   "metadata": {
    "collapsed": false
   },
   "outputs": [
    {
     "data": {
      "text/plain": [
       "\n",
       "Call:\n",
       "lm(formula = score ~ . - model, data = score_data, na.action = na.omit)\n",
       "\n",
       "Residuals:\n",
       "     Min       1Q   Median       3Q      Max \n",
       "-0.56982 -0.16014 -0.07726  0.05179  0.71223 \n",
       "\n",
       "Coefficients:\n",
       "            Estimate Std. Error t value Pr(>|t|)\n",
       "(Intercept)  311.090    520.227   0.598    0.565\n",
       "accuracy    -315.699    518.424  -0.609    0.558\n",
       "logloss       -9.067     15.041  -0.603    0.562\n",
       "AUC            9.548     13.847   0.690    0.508\n",
       "f1            -3.279      6.301  -0.520    0.615\n",
       "\n",
       "Residual standard error: 0.3873 on 9 degrees of freedom\n",
       "  (5 observations deleted due to missingness)\n",
       "Multiple R-squared:  0.2762,\tAdjusted R-squared:  -0.04548 \n",
       "F-statistic: 0.8586 on 4 and 9 DF,  p-value: 0.5237\n"
      ]
     },
     "execution_count": 2,
     "metadata": {},
     "output_type": "execute_result"
    }
   ],
   "source": [
    "lm.fit = lm(score ~ .-model, \n",
    "            data      = score_data, \n",
    "            na.action = na.omit)\n",
    "summary(lm.fit)"
   ]
  },
  {
   "cell_type": "code",
   "execution_count": 3,
   "metadata": {
    "collapsed": false
   },
   "outputs": [
    {
     "name": "stdout",
     "output_type": "stream",
     "text": [
      "Start:  AIC=-22.74\n",
      "score ~ (model + accuracy + logloss + AUC + f1) - model\n",
      "\n",
      "           Df Sum of Sq    RSS     AIC\n",
      "- f1        1  0.040629 1.3908 -24.328\n",
      "- logloss   1  0.054509 1.4047 -24.189\n",
      "- accuracy  1  0.055633 1.4058 -24.178\n",
      "- AUC       1  0.071323 1.4215 -24.023\n",
      "<none>                  1.3502 -22.743\n",
      "\n",
      "Step:  AIC=-24.33\n",
      "score ~ accuracy + logloss + AUC\n",
      "\n",
      "           Df Sum of Sq    RSS     AIC\n",
      "- AUC       1  0.082229 1.4731 -25.524\n",
      "- logloss   1  0.088822 1.4796 -25.462\n",
      "- accuracy  1  0.089396 1.4802 -25.456\n",
      "<none>                  1.3908 -24.328\n",
      "+ f1        1  0.040629 1.3502 -22.743\n",
      "\n",
      "Step:  AIC=-25.52\n",
      "score ~ accuracy + logloss\n",
      "\n",
      "           Df Sum of Sq    RSS     AIC\n",
      "- accuracy  1  0.089254 1.5623 -26.700\n",
      "- logloss   1  0.090494 1.5635 -26.689\n",
      "<none>                  1.4731 -25.524\n",
      "+ AUC       1  0.082229 1.3908 -24.328\n",
      "+ f1        1  0.051534 1.4215 -24.023\n",
      "\n",
      "Step:  AIC=-26.7\n",
      "score ~ logloss\n",
      "\n",
      "           Df Sum of Sq    RSS     AIC\n",
      "<none>                  1.5623 -26.700\n",
      "- logloss   1  0.303144 1.8655 -26.218\n",
      "+ accuracy  1  0.089254 1.4731 -25.524\n",
      "+ AUC       1  0.082086 1.4802 -25.456\n",
      "+ f1        1  0.042425 1.5199 -25.086\n"
     ]
    },
    {
     "data": {
      "text/plain": [
       "\n",
       "Call:\n",
       "lm(formula = score ~ logloss, data = score_data, na.action = na.omit)\n",
       "\n",
       "Residuals:\n",
       "     Min       1Q   Median       3Q      Max \n",
       "-0.43902 -0.22573 -0.10647  0.08092  0.86918 \n",
       "\n",
       "Coefficients:\n",
       "            Estimate Std. Error t value Pr(>|t|)   \n",
       "(Intercept)  1.13986    0.33162   3.437  0.00492 **\n",
       "logloss     -0.07747    0.05077  -1.526  0.15295   \n",
       "---\n",
       "Signif. codes:  0 ‘***’ 0.001 ‘**’ 0.01 ‘*’ 0.05 ‘.’ 0.1 ‘ ’ 1\n",
       "\n",
       "Residual standard error: 0.3608 on 12 degrees of freedom\n",
       "  (5 observations deleted due to missingness)\n",
       "Multiple R-squared:  0.1625,\tAdjusted R-squared:  0.09271 \n",
       "F-statistic: 2.328 on 1 and 12 DF,  p-value: 0.1529\n"
      ]
     },
     "execution_count": 3,
     "metadata": {},
     "output_type": "execute_result"
    }
   ],
   "source": [
    "slm.fit = step(lm.fit, direction = \"both\")\n",
    "summary(slm.fit)"
   ]
  },
  {
   "cell_type": "code",
   "execution_count": 4,
   "metadata": {
    "collapsed": false
   },
   "outputs": [
    {
     "data": {
      "text/plain": [
       "\n",
       "\n",
       "|   |model                      |  score| accuracy| logloss|    AUC|     f1|\n",
       "|:--|:--------------------------|------:|--------:|-------:|------:|------:|\n",
       "|14 |LogisticRegression         | 0.4411|   0.7760|  7.7353| 0.5649| 0.2543|\n",
       "|3  |GradientBoostingClassifier | 0.4452|   0.8177|  6.2962| 0.6717| 0.5070|\n",
       "|15 |LogisticRegressionCV       | 0.4457|   0.7830|  7.4954| 0.5794| 0.2938|\n",
       "|1  |nolearn                    | 0.4566|   0.8056|  6.7159| 0.6711| 0.5044|\n",
       "|4  |ExtraTreesClassifier       | 0.4729|   0.8402|  5.5467| 0.7100| 0.5806|\n",
       "|5  |XGBClassifier              | 0.4851|   0.8420|  5.4567| 0.7100| 0.5806|\n",
       "|13 |BaggingClassifier          | 0.4885|   0.8507|  5.1568| 0.7107| 0.5865|\n",
       "|2  |ensemble of averages       | 0.4896|       NA|      NA|     NA|     NA|\n",
       "|11 |SVC                        | 0.5336|   0.9375|  2.1587| 0.8745| 0.8525|\n",
       "|6  |SGDClassifier              | 0.5670|   0.7500|  8.6348| 0.6545| 0.4745|\n",
       "|7  |cosine_similarity          | 0.5732|   0.7906|  7.2333| 0.6452| 0.4595|\n",
       "|12 |KMeans                     | 0.6289|   0.7326|  9.2324| 0.5636| 0.3000|\n",
       "|8  |AdaBoostClassifier         | 0.6642|   0.8090|  6.5960| 0.6635| 0.4907|\n",
       "|9  |KNeighborsClassifier       | 1.1870|   0.8142|  6.4161| 0.6620| 0.4880|\n",
       "|10 |RandomForestClassifier     | 1.7907|   0.9184|  2.8183| 0.8520| 0.8097|\n",
       "|16 |voting_ensemble_hard       |     NA|   0.8177|  6.2962| 0.6618| 0.4878|\n",
       "|17 |voting_ensemble_soft       |     NA|   0.8177|  6.2962| 0.6618| 0.4878|\n",
       "|18 |bagged_gbc                 |     NA|   0.8108|  6.5360| 0.6572| 0.4785|\n",
       "|19 |boosted_svc                |     NA|   0.7813|  7.5554| 0.5435| 0.1600|"
      ]
     },
     "execution_count": 4,
     "metadata": {},
     "output_type": "execute_result"
    }
   ],
   "source": [
    "score_data = score_data[with(score_data, order(score)), ]\n",
    "\n",
    "library(knitr)\n",
    "kable(score_data, format = \"markdown\", digits = 4)"
   ]
  },
  {
   "cell_type": "code",
   "execution_count": null,
   "metadata": {
    "collapsed": true
   },
   "outputs": [],
   "source": []
  }
 ],
 "metadata": {
  "kernelspec": {
   "display_name": "R",
   "language": "R",
   "name": "ir"
  },
  "language_info": {
   "codemirror_mode": "r",
   "file_extension": ".r",
   "mimetype": "text/x-r-source",
   "name": "R",
   "pygments_lexer": "r",
   "version": "3.2.2"
  }
 },
 "nbformat": 4,
 "nbformat_minor": 0
}
