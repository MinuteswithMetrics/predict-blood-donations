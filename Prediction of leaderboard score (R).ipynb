{
 "cells": [
  {
   "cell_type": "markdown",
   "metadata": {},
   "source": [
    "# Prediction of leaderboard score (R)"
   ]
  },
  {
   "cell_type": "code",
   "execution_count": 1,
   "metadata": {
    "collapsed": false
   },
   "outputs": [
    {
     "data": {
      "text/html": [
       "<table>\n",
       "<thead><tr><th></th><th scope=col>model</th><th scope=col>leaderboard_score</th><th scope=col>accuracy</th><th scope=col>logloss</th><th scope=col>AUC</th><th scope=col>f1</th><th scope=col>mu</th><th scope=col>std</th></tr></thead>\n",
       "<tbody>\n",
       "\t<tr><th scope=row>19</th><td>LogisticRegression         </td><td>0.4411</td><td>0.7708</td><td>7.9152</td><td>0.554</td><td>0.2235</td><td>0.7601</td><td>0.0013</td></tr>\n",
       "\t<tr><th scope=row>3</th><td>GradientBoostingClassifier </td><td>0.4452</td><td>0.7934</td><td>7.1356</td><td>0.6309</td><td>0.4251</td><td>0.7538</td><td>0.0047</td></tr>\n",
       "\t<tr><th scope=row>20</th><td>LogisticRegressionCV       </td><td>0.4457</td><td>0.783</td><td>7.4954</td><td>0.5794</td><td>0.2938</td><td>0.7602</td><td>0.0012</td></tr>\n",
       "\t<tr><th scope=row>1</th><td>nolearn                    </td><td>0.4566</td><td>0.8056</td><td>6.7159</td><td>0.6711</td><td>0.5044</td><td>NA</td><td>NA</td></tr>\n",
       "\t<tr><th scope=row>4</th><td>ExtraTreesClassifier       </td><td>0.4729</td><td>0.776</td><td>7.7353</td><td>0.5996</td><td>0.3582</td><td>0.7526</td><td>0.0061</td></tr>\n",
       "\t<tr><th scope=row>5</th><td>XGBClassifier              </td><td>0.4851</td><td>0.7743</td><td>7.7953</td><td>0.6034</td><td>0.3689</td><td>0.7474</td><td>0.0065</td></tr>\n",
       "\t<tr><th scope=row>13</th><td>BaggingClassifier          </td><td>0.4885</td><td>0.7743</td><td>7.7952</td><td>0.5985</td><td>0.3564</td><td>0.7523</td><td>0.0051</td></tr>\n",
       "\t<tr><th scope=row>2</th><td>ensemble of averages       </td><td>0.4896</td><td>NA</td><td>NA</td><td>NA</td><td>NA</td><td>NA</td><td>NA</td></tr>\n",
       "\t<tr><th scope=row>11</th><td>SVC                        </td><td>0.5336</td><td>0.7552</td><td>8.4548</td><td>0.5264</td><td>0.1455</td><td>0.742</td><td>0.0079</td></tr>\n",
       "\t<tr><th scope=row>6</th><td>SGDClassifier              </td><td>0.567</td><td>0.7274</td><td>9.4143</td><td>0.5528</td><td>0.2765</td><td>0.6339</td><td>0.069</td></tr>\n",
       "\t<tr><th scope=row>7</th><td>cosine_similarity          </td><td>0.5732</td><td>0.7906</td><td>7.2333</td><td>0.6452</td><td>0.4595</td><td>NA</td><td>NA</td></tr>\n",
       "\t<tr><th scope=row>12</th><td>KMeans                     </td><td>0.6289</td><td>0.6892</td><td>10.7335</td><td>0.5425</td><td>0.2869</td><td>0</td><td>0</td></tr>\n",
       "\t<tr><th scope=row>8</th><td>AdaBoostClassifier         </td><td>0.6642</td><td>0.783</td><td>7.4954</td><td>0.6191</td><td>0.4019</td><td>0.7574</td><td>0.0036</td></tr>\n",
       "\t<tr><th scope=row>9</th><td>KNeighborsClassifier       </td><td>1.187</td><td>0.7778</td><td>7.6753</td><td>0.6206</td><td>0.4074</td><td>0.7387</td><td>0.0086</td></tr>\n",
       "\t<tr><th scope=row>10</th><td>RandomForestClassifier     </td><td>1.7907</td><td>0.7344</td><td>9.1744</td><td>0.5722</td><td>0.32</td><td>0.6954</td><td>0.0149</td></tr>\n",
       "\t<tr><th scope=row>14</th><td>voting_ensemble_hard       </td><td>NA</td><td>0.7882</td><td>7.3155</td><td>0.6076</td><td>0.3711</td><td>0.7594</td><td>0.0017</td></tr>\n",
       "\t<tr><th scope=row>15</th><td>voting_ensemble_soft       </td><td>NA</td><td>0.7847</td><td>7.4355</td><td>0.6103</td><td>0.38</td><td>0.7599</td><td>0.0015</td></tr>\n",
       "\t<tr><th scope=row>16</th><td>bagged_gbc                 </td><td>NA</td><td>0.7899</td><td>7.2556</td><td>0.6137</td><td>0.3858</td><td>0.7573</td><td>0.0037</td></tr>\n",
       "\t<tr><th scope=row>17</th><td>boosted_svc                </td><td>NA</td><td>0.7691</td><td>7.9751</td><td>0.5206</td><td>0.0828</td><td>0.7602</td><td>0.0012</td></tr>\n",
       "\t<tr><th scope=row>18</th><td>bagged_nolearn             </td><td>NA</td><td>0.7813</td><td>7.5554</td><td>0.5857</td><td>0.3152</td><td>NA</td><td>NA</td></tr>\n",
       "\t<tr><th scope=row>21</th><td>bagged_logit               </td><td>NA</td><td>0.783</td><td>7.4954</td><td>0.5794</td><td>0.2938</td><td>0.76</td><td>0.0015</td></tr>\n",
       "\t<tr><th scope=row>22</th><td>boosted_logit              </td><td>NA</td><td>0.776</td><td>7.7353</td><td>0.5872</td><td>0.3246</td><td>0.759</td><td>0.0018</td></tr>\n",
       "</tbody>\n",
       "</table>\n"
      ],
      "text/latex": [
       "\\begin{tabular}{r|llllllll}\n",
       "  & model & leaderboard_score & accuracy & logloss & AUC & f1 & mu & std\\\\\n",
       "\\hline\n",
       "\t19 & LogisticRegression          & 0.4411 & 0.7708 & 7.9152 & 0.554 & 0.2235 & 0.7601 & 0.0013\\\\\n",
       "\t3 & GradientBoostingClassifier  & 0.4452 & 0.7934 & 7.1356 & 0.6309 & 0.4251 & 0.7538 & 0.0047\\\\\n",
       "\t20 & LogisticRegressionCV        & 0.4457 & 0.783 & 7.4954 & 0.5794 & 0.2938 & 0.7602 & 0.0012\\\\\n",
       "\t1 & nolearn                     & 0.4566 & 0.8056 & 6.7159 & 0.6711 & 0.5044 & NA & NA\\\\\n",
       "\t4 & ExtraTreesClassifier        & 0.4729 & 0.776 & 7.7353 & 0.5996 & 0.3582 & 0.7526 & 0.0061\\\\\n",
       "\t5 & XGBClassifier               & 0.4851 & 0.7743 & 7.7953 & 0.6034 & 0.3689 & 0.7474 & 0.0065\\\\\n",
       "\t13 & BaggingClassifier           & 0.4885 & 0.7743 & 7.7952 & 0.5985 & 0.3564 & 0.7523 & 0.0051\\\\\n",
       "\t2 & ensemble of averages        & 0.4896 & NA & NA & NA & NA & NA & NA\\\\\n",
       "\t11 & SVC                         & 0.5336 & 0.7552 & 8.4548 & 0.5264 & 0.1455 & 0.742 & 0.0079\\\\\n",
       "\t6 & SGDClassifier               & 0.567 & 0.7274 & 9.4143 & 0.5528 & 0.2765 & 0.6339 & 0.069\\\\\n",
       "\t7 & cosine_similarity           & 0.5732 & 0.7906 & 7.2333 & 0.6452 & 0.4595 & NA & NA\\\\\n",
       "\t12 & KMeans                      & 0.6289 & 0.6892 & 10.7335 & 0.5425 & 0.2869 & 0 & 0\\\\\n",
       "\t8 & AdaBoostClassifier          & 0.6642 & 0.783 & 7.4954 & 0.6191 & 0.4019 & 0.7574 & 0.0036\\\\\n",
       "\t9 & KNeighborsClassifier        & 1.187 & 0.7778 & 7.6753 & 0.6206 & 0.4074 & 0.7387 & 0.0086\\\\\n",
       "\t10 & RandomForestClassifier      & 1.7907 & 0.7344 & 9.1744 & 0.5722 & 0.32 & 0.6954 & 0.0149\\\\\n",
       "\t14 & voting_ensemble_hard        & NA & 0.7882 & 7.3155 & 0.6076 & 0.3711 & 0.7594 & 0.0017\\\\\n",
       "\t15 & voting_ensemble_soft        & NA & 0.7847 & 7.4355 & 0.6103 & 0.38 & 0.7599 & 0.0015\\\\\n",
       "\t16 & bagged_gbc                  & NA & 0.7899 & 7.2556 & 0.6137 & 0.3858 & 0.7573 & 0.0037\\\\\n",
       "\t17 & boosted_svc                 & NA & 0.7691 & 7.9751 & 0.5206 & 0.0828 & 0.7602 & 0.0012\\\\\n",
       "\t18 & bagged_nolearn              & NA & 0.7813 & 7.5554 & 0.5857 & 0.3152 & NA & NA\\\\\n",
       "\t21 & bagged_logit                & NA & 0.783 & 7.4954 & 0.5794 & 0.2938 & 0.76 & 0.0015\\\\\n",
       "\t22 & boosted_logit               & NA & 0.776 & 7.7353 & 0.5872 & 0.3246 & 0.759 & 0.0018\\\\\n",
       "\\end{tabular}\n"
      ],
      "text/plain": [
       "                         model leaderboard_score accuracy logloss    AUC     f1\n",
       "19 LogisticRegression                     0.4411   0.7708  7.9152 0.5540 0.2235\n",
       "3  GradientBoostingClassifier             0.4452   0.7934  7.1356 0.6309 0.4251\n",
       "20 LogisticRegressionCV                   0.4457   0.7830  7.4954 0.5794 0.2938\n",
       "1  nolearn                                0.4566   0.8056  6.7159 0.6711 0.5044\n",
       "4  ExtraTreesClassifier                   0.4729   0.7760  7.7353 0.5996 0.3582\n",
       "5  XGBClassifier                          0.4851   0.7743  7.7953 0.6034 0.3689\n",
       "13 BaggingClassifier                      0.4885   0.7743  7.7952 0.5985 0.3564\n",
       "2  ensemble of averages                   0.4896       NA      NA     NA     NA\n",
       "11 SVC                                    0.5336   0.7552  8.4548 0.5264 0.1455\n",
       "6  SGDClassifier                          0.5670   0.7274  9.4143 0.5528 0.2765\n",
       "7  cosine_similarity                      0.5732   0.7906  7.2333 0.6452 0.4595\n",
       "12 KMeans                                 0.6289   0.6892 10.7335 0.5425 0.2869\n",
       "8  AdaBoostClassifier                     0.6642   0.7830  7.4954 0.6191 0.4019\n",
       "9  KNeighborsClassifier                   1.1870   0.7778  7.6753 0.6206 0.4074\n",
       "10 RandomForestClassifier                 1.7907   0.7344  9.1744 0.5722 0.3200\n",
       "14 voting_ensemble_hard                       NA   0.7882  7.3155 0.6076 0.3711\n",
       "15 voting_ensemble_soft                       NA   0.7847  7.4355 0.6103 0.3800\n",
       "16 bagged_gbc                                 NA   0.7899  7.2556 0.6137 0.3858\n",
       "17 boosted_svc                                NA   0.7691  7.9751 0.5206 0.0828\n",
       "18 bagged_nolearn                             NA   0.7813  7.5554 0.5857 0.3152\n",
       "21 bagged_logit                               NA   0.7830  7.4954 0.5794 0.2938\n",
       "22 boosted_logit                              NA   0.7760  7.7353 0.5872 0.3246\n",
       "       mu    std\n",
       "19 0.7601 0.0013\n",
       "3  0.7538 0.0047\n",
       "20 0.7602 0.0012\n",
       "1      NA     NA\n",
       "4  0.7526 0.0061\n",
       "5  0.7474 0.0065\n",
       "13 0.7523 0.0051\n",
       "2      NA     NA\n",
       "11 0.7420 0.0079\n",
       "6  0.6339 0.0690\n",
       "7      NA     NA\n",
       "12 0.0000 0.0000\n",
       "8  0.7574 0.0036\n",
       "9  0.7387 0.0086\n",
       "10 0.6954 0.0149\n",
       "14 0.7594 0.0017\n",
       "15 0.7599 0.0015\n",
       "16 0.7573 0.0037\n",
       "17 0.7602 0.0012\n",
       "18     NA     NA\n",
       "21 0.7600 0.0015\n",
       "22 0.7590 0.0018"
      ]
     },
     "execution_count": 1,
     "metadata": {},
     "output_type": "execute_result"
    }
   ],
   "source": [
    "score_data = read.csv('../input/scores.csv')\n",
    "score_data[with(score_data, order(leaderboard_score)), ]"
   ]
  },
  {
   "cell_type": "markdown",
   "metadata": {},
   "source": [
    "# missing mu & std get the column means"
   ]
  },
  {
   "cell_type": "code",
   "execution_count": 2,
   "metadata": {
    "collapsed": false
   },
   "outputs": [],
   "source": [
    "# for(i in 7:8){\n",
    "#   score_data[is.na(score_data[,i]), i] <- mean(score_data[,i], na.rm = TRUE)\n",
    "# }\n",
    "# score_data"
   ]
  },
  {
   "cell_type": "markdown",
   "metadata": {},
   "source": [
    "# Model using all variables"
   ]
  },
  {
   "cell_type": "code",
   "execution_count": 6,
   "metadata": {
    "collapsed": false
   },
   "outputs": [
    {
     "name": "stdout",
     "output_type": "stream",
     "text": [
      "Start:  AIC=-33.97\n",
      "leaderboard_score ~ accuracy + logloss + AUC + f1 + mu + std\n",
      "\n",
      "           Df Sum of Sq     RSS     AIC\n",
      "- f1        1   0.01384 0.23411 -35.242\n",
      "- AUC       1   0.02905 0.24932 -34.487\n",
      "<none>                  0.22027 -33.974\n",
      "- accuracy  1   0.15164 0.37191 -29.688\n",
      "- logloss   1   0.15400 0.37427 -29.612\n",
      "- std       1   0.17145 0.39172 -29.065\n",
      "- mu        1   0.40484 0.62511 -23.457\n",
      "\n",
      "Step:  AIC=-35.24\n",
      "leaderboard_score ~ accuracy + logloss + AUC + mu + std\n",
      "\n",
      "           Df Sum of Sq     RSS     AIC\n",
      "<none>                  0.23411 -35.242\n",
      "+ f1        1   0.01384 0.22027 -33.974\n",
      "- accuracy  1   0.18442 0.41853 -30.271\n",
      "- logloss   1   0.18647 0.42059 -30.212\n",
      "- std       1   0.19944 0.43355 -29.848\n",
      "- AUC       1   0.29279 0.52690 -27.508\n",
      "- mu        1   0.42450 0.65861 -24.830\n"
     ]
    },
    {
     "data": {
      "text/plain": [
       "\n",
       "Call:\n",
       "lm(formula = leaderboard_score ~ accuracy + logloss + AUC + mu + \n",
       "    std, data = score_data, na.action = na.omit)\n",
       "\n",
       "Residuals:\n",
       "      Min        1Q    Median        3Q       Max \n",
       "-0.246576 -0.066364 -0.004653  0.067846  0.271408 \n",
       "\n",
       "Coefficients:\n",
       "              Estimate Std. Error t value Pr(>|t|)  \n",
       "(Intercept) -7454.1877  3419.8922  -2.180   0.0721 .\n",
       "accuracy     7439.8570  3422.1310   2.174   0.0727 .\n",
       "logloss       216.3608    98.9711   2.186   0.0715 .\n",
       "AUC             9.1473     3.3393   2.739   0.0338 *\n",
       "mu              2.9374     0.8905   3.298   0.0164 *\n",
       "std           -11.4574     5.0678  -2.261   0.0645 .\n",
       "---\n",
       "Signif. codes:  0 ‘***’ 0.001 ‘**’ 0.01 ‘*’ 0.05 ‘.’ 0.1 ‘ ’ 1\n",
       "\n",
       "Residual standard error: 0.1975 on 6 degrees of freedom\n",
       "  (10 observations deleted due to missingness)\n",
       "Multiple R-squared:  0.8708,\tAdjusted R-squared:  0.7632 \n",
       "F-statistic:  8.09 on 5 and 6 DF,  p-value: 0.01214\n"
      ]
     },
     "execution_count": 6,
     "metadata": {},
     "output_type": "execute_result"
    }
   ],
   "source": [
    "lm.fit = lm(leaderboard_score ~ accuracy + logloss + AUC + f1 + mu + std, \n",
    "            data      = score_data, \n",
    "            na.action = na.omit)\n",
    "\n",
    "slm.fit = step(lm.fit, direction = \"both\")\n",
    "summary(slm.fit)"
   ]
  },
  {
   "cell_type": "markdown",
   "metadata": {},
   "source": [
    "# Remove mu & std (b/c of missing values)"
   ]
  },
  {
   "cell_type": "code",
   "execution_count": 7,
   "metadata": {
    "collapsed": false
   },
   "outputs": [
    {
     "name": "stdout",
     "output_type": "stream",
     "text": [
      "Start:  AIC=-28.95\n",
      "leaderboard_score ~ accuracy + logloss + AUC + f1\n",
      "\n",
      "           Df Sum of Sq     RSS     AIC\n",
      "- f1        1   0.08791 0.95445 -29.599\n",
      "- AUC       1   0.09190 0.95844 -29.541\n",
      "<none>                  0.86654 -28.952\n",
      "- accuracy  1   0.69708 1.56362 -22.689\n",
      "- logloss   1   0.69817 1.56471 -22.679\n",
      "\n",
      "Step:  AIC=-29.6\n",
      "leaderboard_score ~ accuracy + logloss + AUC\n",
      "\n",
      "           Df Sum of Sq     RSS     AIC\n",
      "- AUC       1   0.00592 0.96037 -31.513\n",
      "<none>                  0.95445 -29.599\n",
      "+ f1        1   0.08791 0.86654 -28.952\n",
      "- accuracy  1   0.61433 1.56878 -24.643\n",
      "- logloss   1   0.61516 1.56961 -24.635\n",
      "\n",
      "Step:  AIC=-31.51\n",
      "leaderboard_score ~ accuracy + logloss\n",
      "\n",
      "           Df Sum of Sq     RSS     AIC\n",
      "<none>                  0.96037 -31.513\n",
      "+ AUC       1   0.00592 0.95445 -29.599\n",
      "+ f1        1   0.00193 0.95844 -29.541\n",
      "- accuracy  1   0.72206 1.68243 -25.663\n",
      "- logloss   1   0.72259 1.68296 -25.659\n"
     ]
    },
    {
     "data": {
      "text/plain": [
       "\n",
       "Call:\n",
       "lm(formula = leaderboard_score ~ accuracy + logloss, data = score_data, \n",
       "    na.action = na.omit)\n",
       "\n",
       "Residuals:\n",
       "     Min       1Q   Median       3Q      Max \n",
       "-0.35224 -0.14958 -0.06438  0.11867  0.58624 \n",
       "\n",
       "Coefficients:\n",
       "            Estimate Std. Error t value Pr(>|t|)  \n",
       "(Intercept) -10466.7     3639.5  -2.876   0.0151 *\n",
       "accuracy     10465.4     3639.1   2.876   0.0151 *\n",
       "logloss        303.2      105.4   2.877   0.0151 *\n",
       "---\n",
       "Signif. codes:  0 ‘***’ 0.001 ‘**’ 0.01 ‘*’ 0.05 ‘.’ 0.1 ‘ ’ 1\n",
       "\n",
       "Residual standard error: 0.2955 on 11 degrees of freedom\n",
       "  (8 observations deleted due to missingness)\n",
       "Multiple R-squared:  0.4852,\tAdjusted R-squared:  0.3916 \n",
       "F-statistic: 5.183 on 2 and 11 DF,  p-value: 0.02595\n"
      ]
     },
     "execution_count": 7,
     "metadata": {},
     "output_type": "execute_result"
    }
   ],
   "source": [
    "lm.fit = lm(leaderboard_score ~ accuracy + logloss + AUC + f1, \n",
    "            data      = score_data, \n",
    "            na.action = na.omit)\n",
    "\n",
    "slm.fit = step(lm.fit, direction = \"both\")\n",
    "summary(slm.fit)"
   ]
  },
  {
   "cell_type": "code",
   "execution_count": 5,
   "metadata": {
    "collapsed": false
   },
   "outputs": [
    {
     "name": "stdout",
     "output_type": "stream",
     "text": [
      "|model                      | leaderboard_score| \n",
      "|:--------------------------|-----------------:| \n",
      "|LogisticRegression         |            0.4411| \n",
      "|GradientBoostingClassifier |            0.4452| \n",
      "|LogisticRegressionCV       |            0.4457| \n",
      "|nolearn                    |            0.4566| \n",
      "|ExtraTreesClassifier       |            0.4729| \n",
      "|XGBClassifier              |            0.4851| \n",
      "|BaggingClassifier          |            0.4885| \n",
      "|ensemble of averages       |            0.4896| \n",
      "|SVC                        |            0.5336| \n",
      "|SGDClassifier              |            0.5670| \n",
      "|cosine_similarity          |            0.5732| \n",
      "|KMeans                     |            0.6289| \n",
      "|AdaBoostClassifier         |            0.6642| \n",
      "|KNeighborsClassifier       |            1.1870| \n",
      "|RandomForestClassifier     |            1.7907| \n",
      "|voting_ensemble_hard       |                NA| \n",
      "|voting_ensemble_soft       |                NA| \n",
      "|bagged_gbc                 |                NA| \n",
      "|boosted_svc                |                NA| \n",
      "|bagged_nolearn             |                NA| \n",
      "|bagged_logit               |                NA| \n",
      "|boosted_logit              |                NA| \n"
     ]
    },
    {
     "data": {
      "text/plain": [
       "NULL"
      ]
     },
     "execution_count": 5,
     "metadata": {},
     "output_type": "execute_result"
    }
   ],
   "source": [
    "score_data = score_data[with(score_data, order(leaderboard_score)), ]\n",
    "\n",
    "library(knitr)\n",
    "foo = kable(score_data, format = \"markdown\", digits = 4)\n",
    "foof = ''\n",
    "for (i in 1:length(foo)) {\n",
    "    subs = substr(foo[i],5,52)\n",
    "    foof = cat(foof,cat(subs,'\\n'))\n",
    "}\n",
    "foof"
   ]
  },
  {
   "cell_type": "code",
   "execution_count": null,
   "metadata": {
    "collapsed": true
   },
   "outputs": [],
   "source": []
  }
 ],
 "metadata": {
  "kernelspec": {
   "display_name": "R",
   "language": "R",
   "name": "ir"
  },
  "language_info": {
   "codemirror_mode": "r",
   "file_extension": ".r",
   "mimetype": "text/x-r-source",
   "name": "R",
   "pygments_lexer": "r",
   "version": "3.2.2"
  }
 },
 "nbformat": 4,
 "nbformat_minor": 0
}
