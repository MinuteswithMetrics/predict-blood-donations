{
 "cells": [
  {
   "cell_type": "markdown",
   "metadata": {},
   "source": [
    "# voting_ensemble_hard"
   ]
  },
  {
   "cell_type": "code",
   "execution_count": 1,
   "metadata": {
    "collapsed": false
   },
   "outputs": [],
   "source": [
    "from __future__      import division\n",
    "from IPython.display import display\n",
    "from matplotlib      import pyplot as plt\n",
    "%matplotlib inline\n",
    "\n",
    "import numpy  as np\n",
    "import pandas as pd\n",
    "import random, sys, os\n",
    "\n",
    "from sklearn.ensemble         import VotingClassifier\n",
    "\n",
    "from sklearn.ensemble         import GradientBoostingClassifier\n",
    "from sklearn.ensemble         import ExtraTreesClassifier\n",
    "from sklearn.linear_model     import LogisticRegression\n",
    "from sklearn.linear_model     import LogisticRegressionCV\n",
    "import xgboost as xgb\n",
    "\n",
    "from sklearn.cross_validation import StratifiedKFold\n",
    "from sklearn.grid_search      import RandomizedSearchCV, GridSearchCV"
   ]
  },
  {
   "cell_type": "code",
   "execution_count": 2,
   "metadata": {
    "collapsed": true
   },
   "outputs": [],
   "source": [
    "SEED   = 97\n",
    "scale  = False \n",
    "minmax = False\n",
    "norm   = False\n",
    "nointercept = False\n",
    "engineering = False\n",
    "\n",
    "submission_filename = \"../submissions/submission_voting_ensemble_hard.csv\""
   ]
  },
  {
   "cell_type": "markdown",
   "metadata": {
    "collapsed": false
   },
   "source": [
    "# Load the training data"
   ]
  },
  {
   "cell_type": "code",
   "execution_count": 3,
   "metadata": {
    "collapsed": false
   },
   "outputs": [],
   "source": [
    "from load_blood_data import load_blood_data\n",
    "\n",
    "y_train, X_train = load_blood_data(train=True, SEED   = SEED, \n",
    "                                               scale  = scale,\n",
    "                                               minmax = minmax,\n",
    "                                               norm   = norm,\n",
    "                                               nointercept = nointercept,\n",
    "                                               engineering = engineering)"
   ]
  },
  {
   "cell_type": "markdown",
   "metadata": {},
   "source": [
    "# Train the model"
   ]
  },
  {
   "cell_type": "code",
   "execution_count": 4,
   "metadata": {
    "collapsed": false,
    "scrolled": false
   },
   "outputs": [
    {
     "name": "stdout",
     "output_type": "stream",
     "text": [
      "CPU times: user 144 ms, sys: 32 ms, total: 176 ms\n",
      "Wall time: 380 ms\n"
     ]
    }
   ],
   "source": [
    "%%time\n",
    "\n",
    "random.seed(SEED)\n",
    "\n",
    "# -------------------------------- estimators ----------------------------------------\n",
    "gbc = GradientBoostingClassifier(loss                     = 'exponential',\n",
    "                                 learning_rate            = 0.15, \n",
    "                                 n_estimators             = 175, \n",
    "                                 max_depth                = 1, \n",
    "                                 subsample                = 0.75, \n",
    "                                 \n",
    "                                 min_samples_split        = 2, \n",
    "                                 min_samples_leaf         = 1, \n",
    "                                 #min_weight_fraction_leaf = 0.0, \n",
    "                                 init                     = None, \n",
    "                                 random_state             = SEED, \n",
    "                                 max_features             = None, \n",
    "                                 verbose                  = 0, \n",
    "                                 max_leaf_nodes           = None, \n",
    "                                 warm_start               = False) \n",
    "                                 #presort                  = 'auto')\n",
    "    \n",
    "etc = ExtraTreesClassifier(n_estimators             = 10, \n",
    "                           criterion                = 'entropy', \n",
    "                           max_depth                = 7, \n",
    "                           bootstrap                = True, \n",
    "                           max_features             = None,\n",
    "                           \n",
    "                           min_samples_split        = 2, \n",
    "                           min_samples_leaf         = 1, \n",
    "                           #min_weight_fraction_leaf = 0.0, \n",
    "                            \n",
    "                           max_leaf_nodes           = None, \n",
    "                           oob_score                = False, \n",
    "                           n_jobs                   = -1, \n",
    "                           random_state             = SEED, \n",
    "                           verbose                  = 0) \n",
    "                           #warm_start               = False, \n",
    "                           #class_weight             = None)\n",
    "        \n",
    "xgbc = xgb.XGBClassifier(learning_rate    = 0.1,\n",
    "                         n_estimators     = 50, \n",
    "                         max_depth        = 5,\n",
    "                         subsample        = 0.25,\n",
    "                         colsample_bytree = 0.75,\n",
    "                         gamma            = 0, \n",
    "                        \n",
    "                         nthread          = 1, \n",
    "                         objective        = 'binary:logistic', \n",
    "                         min_child_weight = 1, \n",
    "                         max_delta_step   = 0, \n",
    "                         base_score       = 0.5, \n",
    "                         seed             = SEED,\n",
    "                         silent           = True,\n",
    "                         missing          = None)\n",
    "\n",
    "logit = LogisticRegression(penalty           = 'l2',          \n",
    "                         dual              = False, \n",
    "                         C                 = 0.001, \n",
    "                         fit_intercept     = True,\n",
    "                         solver            = 'liblinear',   \n",
    "                         max_iter          = 50, \n",
    "                         intercept_scaling = 1,\n",
    "                         \n",
    "                         tol               = 0.0001, \n",
    "                         class_weight      = None, \n",
    "                         random_state      = SEED, \n",
    "                         multi_class       = 'ovr', \n",
    "                         verbose           = 0, \n",
    "                         warm_start        = False, \n",
    "                         n_jobs            = -1)\n",
    "\n",
    "logitCV = LogisticRegressionCV(Cs            = 10, \n",
    "                           cv                = 10,\n",
    "                           \n",
    "                           fit_intercept     = True, \n",
    "                           penalty           = 'l2',\n",
    "                           solver            = 'liblinear', \n",
    "                           max_iter          = 50,\n",
    "                            \n",
    "                           dual              = False, \n",
    "                           scoring           = None, \n",
    "                           tol               = 0.0001, \n",
    "                           class_weight      = None, \n",
    "                           n_jobs            = -1, \n",
    "                           verbose           = 0, \n",
    "                           refit             = True, \n",
    "                           intercept_scaling = 1.0, \n",
    "                           multi_class       = 'ovr', \n",
    "                           random_state      = SEED)\n",
    "\n",
    "\n",
    "\n",
    "# -------------------------------- VotingClassifier ----------------------------------------\n",
    "\n",
    "estimator_list = [('gbc', gbc), ('etc', etc), ('xgbc', xgbc), ('logit', logit), ('logitCV',logitCV)]\n",
    "weights_list   = [      1,            1,             1,               1,                  1]\n",
    "\n",
    "clf = VotingClassifier(estimators = estimator_list, \n",
    "                       voting     = 'hard', \n",
    "                       weights    = weights_list)\n",
    "\n",
    "clf.fit(X_train, y_train)"
   ]
  },
  {
   "cell_type": "code",
   "execution_count": 5,
   "metadata": {
    "collapsed": false
   },
   "outputs": [],
   "source": [
    "# from sklearn_utilities import GridSearchHeatmap\n",
    "\n",
    "# GridSearchHeatmap(grid_clf, y_key='learning_rate', x_key='n_estimators')\n",
    "\n",
    "# from sklearn_utilities import plot_validation_curves\n",
    "\n",
    "# plot_validation_curves(grid_clf, param_grid, X_train, y_train, ylim = (0.0, 1.05))"
   ]
  },
  {
   "cell_type": "code",
   "execution_count": 6,
   "metadata": {
    "collapsed": false
   },
   "outputs": [
    {
     "name": "stderr",
     "output_type": "stream",
     "text": [
      "/home/george/.local/lib/python2.7/site-packages/matplotlib/collections.py:590: FutureWarning: elementwise comparison failed; returning scalar instead, but in the future will perform elementwise comparison\n",
      "  if self._edgecolors == str('face'):\n",
      "/usr/local/lib/python2.7/dist-packages/sklearn/linear_model/logistic.py:1583: UserWarning: Multiprocessing-backed parallel loops cannot be nested, setting n_jobs=1\n",
      "  for label in iter_labels\n",
      "/usr/local/lib/python2.7/dist-packages/sklearn/linear_model/logistic.py:1583: UserWarning: Multiprocessing-backed parallel loops cannot be nested, setting n_jobs=1\n",
      "  for label in iter_labels\n",
      "/usr/local/lib/python2.7/dist-packages/sklearn/linear_model/logistic.py:1583: UserWarning: Multiprocessing-backed parallel loops cannot be nested, setting n_jobs=1\n",
      "  for label in iter_labels\n",
      "/usr/local/lib/python2.7/dist-packages/sklearn/linear_model/logistic.py:1583: UserWarning: Multiprocessing-backed parallel loops cannot be nested, setting n_jobs=1\n",
      "  for label in iter_labels\n",
      "/usr/local/lib/python2.7/dist-packages/sklearn/linear_model/logistic.py:1583: UserWarning: Multiprocessing-backed parallel loops cannot be nested, setting n_jobs=1\n",
      "  for label in iter_labels\n",
      "/usr/local/lib/python2.7/dist-packages/sklearn/linear_model/logistic.py:1583: UserWarning: Multiprocessing-backed parallel loops cannot be nested, setting n_jobs=1\n",
      "  for label in iter_labels\n",
      "/usr/local/lib/python2.7/dist-packages/sklearn/linear_model/logistic.py:1583: UserWarning: Multiprocessing-backed parallel loops cannot be nested, setting n_jobs=1\n",
      "  for label in iter_labels\n",
      "/usr/local/lib/python2.7/dist-packages/sklearn/linear_model/logistic.py:1583: UserWarning: Multiprocessing-backed parallel loops cannot be nested, setting n_jobs=1\n",
      "  for label in iter_labels\n"
     ]
    },
    {
     "data": {
      "image/png": "[encoded data removed]",
      "text/plain": [
       "<matplotlib.figure.Figure at 0x7f840c67a850>"
      ]
     },
     "metadata": {},
     "output_type": "display_data"
    },
    {
     "name": "stdout",
     "output_type": "stream",
     "text": [
      "CPU times: user 480 ms, sys: 80 ms, total: 560 ms\n",
      "Wall time: 4.04 s\n"
     ]
    }
   ],
   "source": [
    "%%time\n",
    "\n",
    "try:\n",
    "    from sklearn_utilities import plot_learning_curve\n",
    "except:\n",
    "    import imp, os\n",
    "    util = imp.load_source('sklearn_utilities', os.path.expanduser('~/Dropbox/Python/sklearn_utilities.py'))\n",
    "    from sklearn_utilities import plot_learning_curve\n",
    "\n",
    "plot_learning_curve(estimator   = clf, \n",
    "                    title       = None, \n",
    "                    X           = X_train, \n",
    "                    y           = y_train, \n",
    "                    ylim        = (0.0, 1.10), \n",
    "                    cv          = StratifiedKFold(y            = y_train, \n",
    "                                                  n_folds      = 10, \n",
    "                                                  shuffle      = True, \n",
    "                                                  random_state = SEED), \n",
    "                    train_sizes = np.linspace(.1, 1.0, 5),\n",
    "                    n_jobs      = -1)\n",
    "\n",
    "plt.show()"
   ]
  },
  {
   "cell_type": "markdown",
   "metadata": {},
   "source": [
    "# Training set predictions"
   ]
  },
  {
   "cell_type": "code",
   "execution_count": 7,
   "metadata": {
    "collapsed": false
   },
   "outputs": [
    {
     "name": "stdout",
     "output_type": "stream",
     "text": [
      "predict_proba is not available when voting='hard'\n"
     ]
    }
   ],
   "source": [
    "predicted_values = clf.predict(X_train)\n",
    "y_true, y_pred   = y_train, predicted_values\n",
    "\n",
    "try:\n",
    "    predicted_probs  = clf.predict_proba(X_train)\n",
    "    probs_avail = True\n",
    "except AttributeError,e:\n",
    "    probs_avail = False\n",
    "    print(e)"
   ]
  },
  {
   "cell_type": "code",
   "execution_count": 8,
   "metadata": {
    "collapsed": false
   },
   "outputs": [
    {
     "name": "stdout",
     "output_type": "stream",
     "text": [
      "[[421  17]\n",
      " [ 88  50]]\n"
     ]
    },
    {
     "data": {
      "image/png": "[encoded data removed]",
      "text/plain": [
       "<matplotlib.figure.Figure at 0x7f840c5e1b50>"
      ]
     },
     "metadata": {},
     "output_type": "display_data"
    },
    {
     "name": "stdout",
     "output_type": "stream",
     "text": [
      "Accuracy 0.8177, mis-class rate 0.1823\n"
     ]
    }
   ],
   "source": [
    "from sklearn.metrics import confusion_matrix\n",
    "cm = confusion_matrix(y_true, y_pred, labels=None)\n",
    "print cm\n",
    "\n",
    "try:\n",
    "    from sklearn_utilities import plot_confusion_matrix\n",
    "except:\n",
    "    import imp, os\n",
    "    util = imp.load_source('sklearn_utilities', os.path.expanduser('~/Dropbox/Python/sklearn_utilities.py'))\n",
    "    from sklearn_utilities import plot_confusion_matrix\n",
    "\n",
    "plot_confusion_matrix(cm, ['Did not Donate','Donated'])\n",
    "\n",
    "accuracy = round(np.trace(cm)/float(np.sum(cm)),4)\n",
    "misclass = 1 - accuracy\n",
    "print(\"Accuracy {}, mis-class rate {}\".format(accuracy,misclass))"
   ]
  },
  {
   "cell_type": "code",
   "execution_count": 9,
   "metadata": {
    "collapsed": false
   },
   "outputs": [
    {
     "data": {
      "image/png": "[encoded data removed]",
      "text/plain": [
       "<matplotlib.figure.Figure at 0x7f840c5698d0>"
      ]
     },
     "metadata": {},
     "output_type": "display_data"
    }
   ],
   "source": [
    "from sklearn.metrics import roc_curve\n",
    "from sklearn.metrics import roc_auc_score\n",
    "from sklearn.metrics import log_loss\n",
    "from sklearn.metrics import f1_score\n",
    "\n",
    "fpr, tpr, thresholds = roc_curve(y_true, y_pred, pos_label=None)\n",
    "\n",
    "\n",
    "plt.figure(figsize=(10,6))\n",
    "plt.plot([0, 1], [0, 1], 'k--')\n",
    "plt.plot(fpr, tpr)\n",
    "\n",
    "plt.text(x=0.6,y=0.4,s=\"AUC         {:.4f}\"\\\n",
    "         .format(roc_auc_score(y_true, y_pred, average='macro')),\n",
    "        fontsize=16)\n",
    "\n",
    "plt.text(x=0.6,y=0.3,s=\"accuracy {:.2f}%\"\\\n",
    "         .format(accuracy*100),\n",
    "        fontsize=16)\n",
    "\n",
    "plt.text(x=0.6,y=0.2,s=\"LogLoss   {:.4f}\"\\\n",
    "         .format(log_loss(y_true, y_pred)),\n",
    "        fontsize=16)\n",
    "\n",
    "plt.text(x=0.6,y=0.1,s=\"f1            {:.4f}\"\\\n",
    "         .format(f1_score(y_true, y_pred)),\n",
    "        fontsize=16)\n",
    "\n",
    "plt.xlabel('False positive rate')\n",
    "plt.ylabel('True positive rate')\n",
    "plt.title('ROC curve')\n",
    "plt.show()"
   ]
  },
  {
   "cell_type": "markdown",
   "metadata": {},
   "source": [
    "# --------------------------------------------------------------------------------------------"
   ]
  },
  {
   "cell_type": "markdown",
   "metadata": {
    "collapsed": true
   },
   "source": [
    "# Test Set Predictions"
   ]
  },
  {
   "cell_type": "markdown",
   "metadata": {},
   "source": [
    "## Load the test data"
   ]
  },
  {
   "cell_type": "code",
   "execution_count": 10,
   "metadata": {
    "collapsed": false
   },
   "outputs": [],
   "source": [
    "from load_blood_data import load_blood_data\n",
    "\n",
    "X_test, IDs = load_blood_data(train=False, SEED   = SEED, \n",
    "                                           scale  = scale,\n",
    "                                           minmax = minmax,\n",
    "                                           norm   = norm,\n",
    "                                           nointercept = nointercept,\n",
    "                                           engineering = engineering)"
   ]
  },
  {
   "cell_type": "markdown",
   "metadata": {},
   "source": [
    "# Predict the test set with the fitted model"
   ]
  },
  {
   "cell_type": "code",
   "execution_count": 11,
   "metadata": {
    "collapsed": true
   },
   "outputs": [],
   "source": [
    "y_pred        = clf.predict(X_test)\n",
    "if probs_avail:\n",
    "    y_pred_probs  = clf.predict_proba(X_test)\n",
    "    donate_probs  = [prob[1] for prob in y_pred_probs]\n",
    "else:\n",
    "    donate_probs = [0.65 if x>0 else 1-0.65 for x in y_pred]"
   ]
  },
  {
   "cell_type": "code",
   "execution_count": 12,
   "metadata": {
    "collapsed": false
   },
   "outputs": [
    {
     "name": "stdout",
     "output_type": "stream",
     "text": [
      "[0 0 0 0 1 1 0 0 0 0]\n",
      "[0.35, 0.35, 0.35, 0.35, 0.65, 0.65, 0.35, 0.35, 0.35, 0.35]\n"
     ]
    }
   ],
   "source": [
    "print(y_pred[:10])\n",
    "if probs_avail: print(y_pred_probs[:10])\n",
    "print(donate_probs[:10])"
   ]
  },
  {
   "cell_type": "markdown",
   "metadata": {},
   "source": [
    "# Create the submission file"
   ]
  },
  {
   "cell_type": "code",
   "execution_count": 13,
   "metadata": {
    "collapsed": false
   },
   "outputs": [],
   "source": [
    "assert len(IDs)==len(donate_probs)\n",
    "\n",
    "f = open(submission_filename, \"w\")\n",
    "\n",
    "f.write(\",Made Donation in March 2007\\n\")\n",
    "for ID, prob in zip(IDs, donate_probs):\n",
    "    f.write(\"{},{}\\n\".format(ID,prob))\n",
    "    \n",
    "f.close()"
   ]
  },
  {
   "cell_type": "code",
   "execution_count": null,
   "metadata": {
    "collapsed": true
   },
   "outputs": [],
   "source": []
  }
 ],
 "metadata": {
  "kernelspec": {
   "display_name": "Python 2",
   "language": "python",
   "name": "python2"
  },
  "language_info": {
   "codemirror_mode": {
    "name": "ipython",
    "version": 2
   },
   "file_extension": ".py",
   "mimetype": "text/x-python",
   "name": "python",
   "nbconvert_exporter": "python",
   "pygments_lexer": "ipython2",
   "version": "2.7.10"
  }
 },
 "nbformat": 4,
 "nbformat_minor": 0
}
