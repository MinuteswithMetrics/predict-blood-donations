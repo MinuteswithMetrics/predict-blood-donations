{
 "cells": [
  {
   "cell_type": "markdown",
   "metadata": {},
   "source": [
    "# nolearn"
   ]
  },
  {
   "cell_type": "code",
   "execution_count": 1,
   "metadata": {
    "collapsed": false
   },
   "outputs": [],
   "source": [
    "from __future__      import division\n",
    "from IPython.display import display\n",
    "from matplotlib      import pyplot as plt\n",
    "%matplotlib inline\n",
    "\n",
    "import numpy  as np\n",
    "import pandas as pd\n",
    "import random, sys, os\n",
    "\n",
    "from sklearn.cross_validation import StratifiedKFold\n",
    "from sklearn.grid_search      import RandomizedSearchCV, GridSearchCV"
   ]
  },
  {
   "cell_type": "code",
   "execution_count": 2,
   "metadata": {
    "collapsed": false
   },
   "outputs": [],
   "source": [
    "SEED   = 97\n",
    "scale  = True \n",
    "minmax = False\n",
    "norm   = False\n",
    "nointercept = True\n",
    "engineering = False\n",
    "\n",
    "submission_filename = \"../submissions/submission_nolearn.csv\""
   ]
  },
  {
   "cell_type": "code",
   "execution_count": 3,
   "metadata": {
    "collapsed": true
   },
   "outputs": [],
   "source": [
    "global early_stop_type\n",
    "early_stop_type = 'unset'"
   ]
  },
  {
   "cell_type": "code",
   "execution_count": 4,
   "metadata": {
    "collapsed": false
   },
   "outputs": [
    {
     "name": "stdout",
     "output_type": "stream",
     "text": [
      "ImportError: Conv2DLayer and MaxPool2DLayer used\n"
     ]
    }
   ],
   "source": [
    "import theano\n",
    "from theano import tensor as T\n",
    "\n",
    "import lasagne\n",
    "from lasagne                import layers, nonlinearities\n",
    "from lasagne.nonlinearities import rectify, softmax, sigmoid\n",
    "from lasagne.updates        import nesterov_momentum, adam, adagrad, rmsprop\n",
    "from lasagne.layers         import InputLayer, DenseLayer, DropoutLayer\n",
    "from lasagne.layers         import get_all_params\n",
    "\n",
    "try:\n",
    "    from lasagne.layers.cuda_covnet import Conv2DCCLayer    as Conv2DLayer\n",
    "    from lasagne.layers.cuda_covnet import MaxPool2DCCLayer as MaxPool2DLayer\n",
    "    from lasagne.layers             import Pool2DLayer\n",
    "    print(\"Conv2DCCLayer and MaxPool2DCCLayer used\")\n",
    "    DCC = True\n",
    "except ImportError:\n",
    "    print(\"ImportError: Conv2DLayer and MaxPool2DLayer used\")\n",
    "    DCC = False\n",
    "    Conv2DLayer    = lasagne.layers.Conv2DLayer\n",
    "    MaxPool2DLayer = lasagne.layers.MaxPool2DLayer\n",
    "    Pool2DLayer    = lasagne.layers.Pool2DLayer"
   ]
  },
  {
   "cell_type": "code",
   "execution_count": 5,
   "metadata": {
    "collapsed": false
   },
   "outputs": [],
   "source": [
    "from nolearn.lasagne           import NeuralNet, TrainSplit, BatchIterator\n",
    "from nolearn.lasagne           import objective\n",
    "from nolearn.lasagne           import PrintLayerInfo\n",
    "\n",
    "from nolearn.lasagne.visualize import plot_loss\n",
    "from nolearn.lasagne.visualize import plot_conv_weights\n",
    "from nolearn.lasagne.visualize import plot_conv_activity\n",
    "from nolearn.lasagne.visualize import plot_occlusion"
   ]
  },
  {
   "cell_type": "code",
   "execution_count": 6,
   "metadata": {
    "collapsed": false
   },
   "outputs": [
    {
     "name": "stdout",
     "output_type": "stream",
     "text": [
      "cpu\n"
     ]
    }
   ],
   "source": [
    "print theano.config.device"
   ]
  },
  {
   "cell_type": "markdown",
   "metadata": {},
   "source": [
    "# Load the training data"
   ]
  },
  {
   "cell_type": "code",
   "execution_count": 7,
   "metadata": {
    "collapsed": false
   },
   "outputs": [],
   "source": [
    "from load_blood_data import load_blood_data\n",
    "\n",
    "y_train, X_train = load_blood_data(train=True, SEED   = SEED, \n",
    "                                               scale  = scale,\n",
    "                                               minmax = minmax,\n",
    "                                               norm   = norm,\n",
    "                                               nointercept = nointercept,\n",
    "                                               engineering = engineering)"
   ]
  },
  {
   "cell_type": "markdown",
   "metadata": {},
   "source": [
    "# Fit the model"
   ]
  },
  {
   "cell_type": "code",
   "execution_count": 8,
   "metadata": {
    "collapsed": false
   },
   "outputs": [],
   "source": [
    "\"\"\"\n",
    "[Using convolutional neural nets to detect facial keypoints; Daniel Nouri]\n",
    "\"\"\"\n",
    "\n",
    "def float32(k):\n",
    "    \"\"\"\n",
    "    Cast a variable for inclusion in a theano.shared variable\n",
    "    for subsequent use by AdjustVariable\n",
    "    \"\"\"\n",
    "    return np.cast['float32'](k)\n",
    "\n",
    "class AdjustVariable(object):\n",
    "    \"\"\"\n",
    "    Change the 'name' parameter each epoch\n",
    "    on a linspace(start, stop) schedule\n",
    "    \"\"\"\n",
    "    def __init__(self, name, start=0.03, stop=0.001):\n",
    "        self.name = name\n",
    "        self.start, self.stop = start, stop\n",
    "        self.ls = None\n",
    "\n",
    "    def __call__(self, nn, train_history):\n",
    "        if self.ls is None:\n",
    "            self.ls = np.linspace(self.start, self.stop, nn.max_epochs)\n",
    "\n",
    "        epoch = train_history[-1]['epoch']\n",
    "        new_value = float32(self.ls[epoch - 1])\n",
    "        getattr(nn, self.name).set_value(new_value)\n",
    "        \n",
    "class EarlyStopping_loss(object):\n",
    "    \"\"\"\n",
    "    Stop the training process if the validation loss has not declined\n",
    "    for 'patience' epochs\n",
    "    The model returned has the weights from the epoch with the lowest validation loss.\n",
    "    \"\"\"\n",
    "    def __init__(self, patience=100):\n",
    "        self.patience         = patience\n",
    "        self.best_valid       = np.inf\n",
    "        self.best_valid_epoch = 0\n",
    "        self.best_weights     = None\n",
    "        global early_stop_type\n",
    "        early_stop_type = 'loss'\n",
    "        \n",
    "\n",
    "    def __call__(self, nn, train_history):\n",
    "        current_valid = train_history[-1]['valid_loss']\n",
    "        current_epoch = train_history[-1]['epoch']\n",
    "        if current_valid < self.best_valid:\n",
    "            self.best_valid = current_valid\n",
    "            self.best_valid_epoch = current_epoch\n",
    "            self.best_weights = nn.get_all_params_values()\n",
    "        elif self.best_valid_epoch + self.patience < current_epoch:\n",
    "            print(\"\\nEarly stopping.\")\n",
    "            print(\"Best valid loss was {:.6f} at epoch {}.\\n\".format(\n",
    "                self.best_valid, self.best_valid_epoch))\n",
    "            nn.load_params_from(self.best_weights)\n",
    "            raise StopIteration()\n",
    "            \n",
    "class EarlyStopping_acc(object):\n",
    "    \"\"\"\n",
    "    Stop the training process if the validation accuracy has not increased\n",
    "    for 'patience' epochs\n",
    "    The model returned has the weights from the epoch with the highest validation accuracy.\n",
    "    \"\"\"\n",
    "    def __init__(self, patience=100):\n",
    "        self.patience         = patience\n",
    "        self.best_valid_acc   = 0\n",
    "        self.best_valid_epoch = 0\n",
    "        self.best_weights     = None\n",
    "        global early_stop_type\n",
    "        early_stop_type = 'acc'\n",
    "        \n",
    "\n",
    "    def __call__(self, nn, train_history):\n",
    "        global early_stop\n",
    "        current_valid_acc = train_history[-1]['valid_accuracy']\n",
    "        current_epoch     = train_history[-1]['epoch']\n",
    "        if current_valid_acc > self.best_valid_acc:\n",
    "            self.best_valid_acc   = current_valid_acc\n",
    "            self.best_valid_epoch = current_epoch\n",
    "            self.best_weights     = nn.get_all_params_values()\n",
    "        elif self.best_valid_epoch + self.patience < current_epoch:\n",
    "            print(\"\\nEarly stopping.\")\n",
    "            print(\"Best valid accuracy was {:.6f} at epoch {}.\\n\".format(\n",
    "                self.best_valid_acc, self.best_valid_epoch))\n",
    "            nn.load_params_from(self.best_weights)\n",
    "            raise StopIteration()\n",
    "            \n",
    "def elastic_net(layers, lambdaL1=0., lambdaL2=0., *args, **kwargs):\n",
    "    losses = objective(layers, *args, **kwargs)\n",
    "    # get the layers' weights, but not the biases\n",
    "    weights = get_all_params(layers[-1], regularizable=True)\n",
    "    # sum of absolute weights for L1\n",
    "    sum_abs_weights = sum([abs(w).sum() for w in weights])\n",
    "    # sum of squared weights for L2\n",
    "    sum_squared_weights = sum([(w ** 2).sum() for w in weights])\n",
    "    # add weights to regular loss\n",
    "    losses += lambdaL1 * sum_abs_weights + lambdaL2 * sum_squared_weights\n",
    "    return losses\n",
    "\n",
    "class FlipBatchIterator(BatchIterator):\n",
    "\n",
    "    def transform(self, Xb, yb):\n",
    "        Xb, yb = super(FlipBatchIterator, self).transform(Xb, yb)\n",
    "\n",
    "        # Flip half of the images in this batch at random:\n",
    "        bs = Xb.shape[0]\n",
    "        indices = np.random.choice(bs, bs / 2, replace=False)\n",
    "        Xb[indices] = Xb[indices, :, :, ::-1]\n",
    "\n",
    "        return Xb, yb"
   ]
  },
  {
   "cell_type": "code",
   "execution_count": 9,
   "metadata": {
    "collapsed": false
   },
   "outputs": [],
   "source": [
    "\"\"\"\n",
    "[Understanding the difficulty of training deep feedforward neural networks; Xavier Glorot, Yoshua Bengio]\n",
    "\"\"\"\n",
    "\n",
    "def xavierReLU(fan_in,fan_out):\n",
    "    \"\"\"\n",
    "    Xavier Glorot and Yohua Bengio recommended weight initialization\n",
    "    for layers using a ReLU activation function\n",
    "    \n",
    "    W ~ U[ +/- sqrt(6 / (fan_in + fan_out)) ]\n",
    "    \"\"\"\n",
    "    import numpy as np\n",
    "    return np.sqrt(6. / (fan_in + fan_out))\n",
    "\n",
    "def xavierTanH(fan_in,fan_out):\n",
    "    \"\"\"\n",
    "    Xavier Glorot and Yohua Bengio recommended weight initialization\n",
    "    for layers using a tanh activation function\n",
    "    \n",
    "    W ~ U[ +/- 4 * sqrt(6 / (fan_in + fan_out)) ]\n",
    "    \"\"\"\n",
    "    import numpy as np\n",
    "    return 4. * np.sqrt(6. / (fan_in + fan_out))"
   ]
  },
  {
   "cell_type": "code",
   "execution_count": 10,
   "metadata": {
    "collapsed": false,
    "scrolled": false
   },
   "outputs": [
    {
     "name": "stdout",
     "output_type": "stream",
     "text": [
      "CPU times: user 4 ms, sys: 0 ns, total: 4 ms\n",
      "Wall time: 985 µs\n"
     ]
    }
   ],
   "source": [
    "\"\"\"\n",
    "[Neural Networks and Deep Learning; Michael Nielsen ]\n",
    "\"\"\"\n",
    "%%time\n",
    "\n",
    "random.seed(SEED)\n",
    "\n",
    "\n",
    "clf_layers=[\n",
    "            ('input',    InputLayer),\n",
    "    \n",
    "    \n",
    "#             ('dropout1', DropoutLayer),\n",
    "            ('dense1',   DenseLayer),\n",
    "    \n",
    "#             ('dropout2', DropoutLayer),\n",
    "#             ('dense2',   DenseLayer),\n",
    "    \n",
    "\n",
    "            ('output',   DenseLayer),\n",
    "            ]\n",
    "\n",
    "\n",
    "\n",
    "clf = NeuralNet(\n",
    "    \n",
    "    layers=clf_layers,\n",
    "    \n",
    "    regression=False,\n",
    "    \n",
    "    # --------------------------------------------------------------------------\n",
    "    \n",
    "    input_shape=(None, X_train.shape[1]), \n",
    "    \n",
    "    # Fully Connected\n",
    "    # ===============\n",
    "#     dropout1_p=0.20,\n",
    "    \n",
    "    dense1_num_units    = 500,\n",
    "    dense1_nonlinearity = lasagne.nonlinearities.LeakyRectify(leakiness=1./3.),\n",
    "    dense1_W = lasagne.init.Uniform(range = xavierReLU(X_train.shape[1], 500)),\n",
    "    dense1_b = lasagne.init.Constant(1.),\n",
    "    \n",
    "#     dropout2_p=0.02,\n",
    "    \n",
    "#     dense2_num_units    = 10,\n",
    "#     dense2_nonlinearity = lasagne.nonlinearities.LeakyRectify(leakiness=1./3.),\n",
    "#     dense2_W = lasagne.init.Uniform(range = xavierReLU(500, 10)),\n",
    "#     dense2_b = lasagne.init.Constant(1.),\n",
    "    \n",
    "\n",
    "    # Output\n",
    "    # ======\n",
    "    output_num_units    = 2, \n",
    "    output_nonlinearity = nonlinearities.softmax,\n",
    "    output_W = lasagne.init.Normal(std=1./np.sqrt(500 + 2), mean=0.0),\n",
    "    output_b = lasagne.init.Constant(1.),\n",
    "    \n",
    "    # --------------------------------------------------------------------------\n",
    "    \n",
    "    # Loss Function\n",
    "    # =============\n",
    "    objective_loss_function = lasagne.objectives.categorical_crossentropy,\n",
    "    \n",
    "    # L1 & L2 Regularization\n",
    "    # ======================\n",
    "    objective          = elastic_net,\n",
    "    objective_lambdaL1 = 0.0000,\n",
    "    objective_lambdaL2 = 0.0000,\n",
    "    \n",
    "    # Update Function\n",
    "    # ===============\n",
    "    update               = lasagne.updates.momentum,\n",
    "    update_learning_rate = theano.shared(float32(0.003)),\n",
    "    update_momentum      = theano.shared(float32(0.9)),\n",
    "    \n",
    "    # Early Stopping\n",
    "    # ==============\n",
    "    on_epoch_finished=[\n",
    "        AdjustVariable('update_learning_rate', start=0.003,  stop=0.0003),\n",
    "        AdjustVariable('update_momentum',      start=0.9,    stop=0.99),\n",
    "        \n",
    "        EarlyStopping_loss(patience = 50)\n",
    "        ],\n",
    "    \n",
    "    \n",
    "    # Mini-Batch Size\n",
    "    # ===============\n",
    "    batch_iterator_train = BatchIterator(batch_size=1), \n",
    "    batch_iterator_test  = BatchIterator(batch_size=1),\n",
    "\n",
    "    # Max Epochs\n",
    "    # ==========\n",
    "    max_epochs = 100,\n",
    "    \n",
    "    verbose=0,\n",
    "    train_split=TrainSplit(0.2, stratify=True)\n",
    "    )\n",
    "\n"
   ]
  },
  {
   "cell_type": "code",
   "execution_count": 11,
   "metadata": {
    "collapsed": false
   },
   "outputs": [
    {
     "name": "stdout",
     "output_type": "stream",
     "text": [
      "# Neural Network with 4002 learnable parameters\n",
      "\n",
      "## Layer information\n",
      "\n",
      "  #  name      size\n",
      "---  ------  ------\n",
      "  0  input        5\n",
      "  1  dense1     500\n",
      "  2  output       2\n",
      "\n",
      "CPU times: user 656 ms, sys: 32 ms, total: 688 ms\n",
      "Wall time: 734 ms\n"
     ]
    }
   ],
   "source": [
    "%%time\n",
    "\n",
    "clf.initialize()\n",
    "layer_info = PrintLayerInfo()\n",
    "layer_info(clf, None)"
   ]
  },
  {
   "cell_type": "code",
   "execution_count": 12,
   "metadata": {
    "collapsed": false,
    "scrolled": false
   },
   "outputs": [
    {
     "name": "stdout",
     "output_type": "stream",
     "text": [
      "\n",
      "Early stopping.\n",
      "Best valid loss was 0.553824 at epoch 25.\n",
      "\n"
     ]
    },
    {
     "data": {
      "text/plain": [
       "NeuralNet(X_tensor_type=None,\n",
       "     batch_iterator_test=<nolearn.lasagne.base.BatchIterator object at 0x7fab2a835310>,\n",
       "     batch_iterator_train=<nolearn.lasagne.base.BatchIterator object at 0x7fab2a8352d0>,\n",
       "     custom_score=None,\n",
       "     dense1_W=<lasagne.init.Uniform object at 0x7fab2a8b9b10>,\n",
       "     dense1_b=<lasagne.init.Constant object at 0x7fab2a8b9b50>,\n",
       "     dense1_nonlinearity=<lasagne.nonlinearities.LeakyRectify object at 0x7fab2a8b9ad0>,\n",
       "     dense1_num_units=500, input_shape=(None, 5),\n",
       "     layers=[('input', <class 'lasagne.layers.input.InputLayer'>), ('dense1', <class 'lasagne.layers.dense.DenseLayer'>), ('output', <class 'lasagne.layers.dense.DenseLayer'>)],\n",
       "     loss=None, max_epochs=100, more_params={},\n",
       "     objective=<function elastic_net at 0x7fab2a8dfde8>,\n",
       "     objective_lambdaL1=0.0, objective_lambdaL2=0.0,\n",
       "     objective_loss_function=<function categorical_crossentropy at 0x7fab2aa1b488>,\n",
       "     on_epoch_finished=[<__main__.AdjustVariable object at 0x7fab2a8b9c10>, <__main__.AdjustVariable object at 0x7fab2a835250>, <__main__.EarlyStopping_loss object at 0x7fab2a835290>],\n",
       "     on_training_finished=[], on_training_started=[],\n",
       "     output_W=<lasagne.init.Normal object at 0x7fab2a8b9b90>,\n",
       "     output_b=<lasagne.init.Constant object at 0x7fab2a8b9bd0>,\n",
       "     output_nonlinearity=<function softmax at 0x7fab2e75b500>,\n",
       "     output_num_units=2, regression=False,\n",
       "     train_split=<nolearn.lasagne.base.TrainSplit object at 0x7fab2a835350>,\n",
       "     update=<function momentum at 0x7fab2aa1baa0>,\n",
       "     update_learning_rate=<TensorType(float32, scalar)>,\n",
       "     update_momentum=<TensorType(float32, scalar)>,\n",
       "     use_label_encoder=False, verbose=0,\n",
       "     y_tensor_type=TensorType(int32, vector))"
      ]
     },
     "execution_count": 12,
     "metadata": {},
     "output_type": "execute_result"
    }
   ],
   "source": [
    "# clf_params = {'verbose': 0, 'n_estimators': 10, 'criterion': 'gini'}\n",
    "# clf.set_params(**clf_params)\n",
    "clf.fit(X_train.values.astype(np.float32), y_train)"
   ]
  },
  {
   "cell_type": "code",
   "execution_count": 13,
   "metadata": {
    "collapsed": true
   },
   "outputs": [],
   "source": [
    "# =================================\n",
    "# Create vectors of loss & accuracy\n",
    "# =================================\n",
    "train_loss = np.array([i[\"train_loss\"]     for i in clf.train_history_])\n",
    "valid_loss = np.array([i[\"valid_loss\"]     for i in clf.train_history_])\n",
    "valid_acc  = np.array([i[\"valid_accuracy\"] for i in clf.train_history_])"
   ]
  },
  {
   "cell_type": "code",
   "execution_count": 14,
   "metadata": {
    "collapsed": false
   },
   "outputs": [
    {
     "data": {
      "image/png": "[encoded data removed]",
      "text/plain": [
       "<matplotlib.figure.Figure at 0x7fab36373890>"
      ]
     },
     "metadata": {},
     "output_type": "display_data"
    }
   ],
   "source": [
    "fig, ax1 = plt.subplots(figsize=(12,10))\n",
    "\n",
    "# ===============================\n",
    "# Plot Validation & Training Loss\n",
    "# ===============================\n",
    "ax1.plot(valid_loss, linewidth=3, label=\"valid loss\", color='g', linestyle='-')\n",
    "ax1.plot(train_loss, linewidth=1, label=\"train loss\", color='b', linestyle='-')\n",
    "stop_type = ' no early stopping' \n",
    "if early_stop_type=='acc':  stop_type = ' early stopping for accuracy'\n",
    "if early_stop_type=='loss': stop_type = ' early stopping for loss'\n",
    "ax1.set_xlabel('Epochs, '+stop_type,fontsize=24)\n",
    "\n",
    "# Make the y-axis label and tick labels match the line color.\n",
    "ax1.set_ylabel('loss', color='b',fontsize=24)\n",
    "for tl in ax1.get_yticklabels():\n",
    "    tl.set_color('b')\n",
    "    \n",
    "#plt.yscale(\"log\")\n",
    "#-----------------\n",
    "\n",
    "ax1.axvline(np.argmin(valid_loss)+0, color='g', linestyle='--',label=\"Best Loss\")\n",
    "ax1.axvline(np.argmax(valid_acc)+0,  color='r', linestyle='-.',label=\"Best Accuracy\")\n",
    "ax1.legend(loc=\"upper center\")\n",
    "\n",
    "# ========================\n",
    "# Plot Validation Accuracy\n",
    "# ========================\n",
    "ax2 = ax1.twinx()  # share the x axis\n",
    "ax2.plot(valid_acc, linewidth=3, label=\"valid accuracy\", color='r',linestyle=':')\n",
    "ax2.set_ylabel('Validation Accuracy', color='r',fontsize=24)\n",
    "\n",
    "# Make the y-axis label and tick labels match the line color.\n",
    "for tl in ax2.get_yticklabels():\n",
    "    tl.set_color('r')\n",
    "ax2.legend(loc=\"lower center\")\n",
    "\n",
    "plt.grid()\n",
    "plt.show()"
   ]
  },
  {
   "cell_type": "markdown",
   "metadata": {},
   "source": [
    "# Training set predictions"
   ]
  },
  {
   "cell_type": "code",
   "execution_count": 15,
   "metadata": {
    "collapsed": false
   },
   "outputs": [],
   "source": [
    "predicted_values = clf.predict(X_train.values.astype(np.float32))\n",
    "y_true, y_pred   = y_train, predicted_values\n",
    "\n",
    "predicted_probs  = clf.predict_proba(X_train.values.astype(np.float32))"
   ]
  },
  {
   "cell_type": "code",
   "execution_count": 16,
   "metadata": {
    "collapsed": false
   },
   "outputs": [
    {
     "name": "stdout",
     "output_type": "stream",
     "text": [
      "[[411  27]\n",
      " [ 89  49]]\n"
     ]
    },
    {
     "name": "stderr",
     "output_type": "stream",
     "text": [
      "/home/george/.local/lib/python2.7/site-packages/matplotlib/collections.py:590: FutureWarning: elementwise comparison failed; returning scalar instead, but in the future will perform elementwise comparison\n",
      "  if self._edgecolors == str('face'):\n"
     ]
    },
    {
     "data": {
      "image/png": "[encoded data removed]",
      "text/plain": [
       "<matplotlib.figure.Figure at 0x7fab246d6890>"
      ]
     },
     "metadata": {},
     "output_type": "display_data"
    },
    {
     "name": "stdout",
     "output_type": "stream",
     "text": [
      "Accuracy 0.7986, mis-class rate 0.2014\n"
     ]
    }
   ],
   "source": [
    "from sklearn.metrics import confusion_matrix\n",
    "cm = confusion_matrix(y_true, y_pred, labels=None)\n",
    "print cm\n",
    "\n",
    "try:\n",
    "    from sklearn_utilities import plot_confusion_matrix\n",
    "except:\n",
    "    import imp, os\n",
    "    util = imp.load_source('sklearn_utilities', os.path.expanduser('~/Dropbox/Python/sklearn_utilities.py'))\n",
    "    from sklearn_utilities import plot_confusion_matrix\n",
    "\n",
    "\n",
    "plot_confusion_matrix(cm, ['Did not Donate','Donated'])\n",
    "\n",
    "accuracy = round(np.trace(cm)/float(np.sum(cm)),4)\n",
    "misclass = 1 - accuracy\n",
    "print(\"Accuracy {}, mis-class rate {}\".format(accuracy,misclass))"
   ]
  },
  {
   "cell_type": "code",
   "execution_count": 17,
   "metadata": {
    "collapsed": false
   },
   "outputs": [
    {
     "data": {
      "image/png": "[encoded data removed]",
      "text/plain": [
       "<matplotlib.figure.Figure at 0x7fab2a8dbf50>"
      ]
     },
     "metadata": {},
     "output_type": "display_data"
    }
   ],
   "source": [
    "from sklearn.metrics import roc_curve\n",
    "from sklearn.metrics import roc_auc_score\n",
    "from sklearn.metrics import log_loss\n",
    "from sklearn.metrics import f1_score\n",
    "\n",
    "fpr, tpr, thresholds = roc_curve(y_true, y_pred, pos_label=None)\n",
    "\n",
    "\n",
    "plt.figure(figsize=(10,6))\n",
    "plt.plot([0, 1], [0, 1], 'k--')\n",
    "plt.plot(fpr, tpr)\n",
    "\n",
    "plt.text(x=0.6,y=0.4,s=\"AUC         {:.4f}\"\\\n",
    "         .format(roc_auc_score(y_true, y_pred, average='macro')),\n",
    "        fontsize=16)\n",
    "\n",
    "plt.text(x=0.6,y=0.3,s=\"accuracy {:.2f}%\"\\\n",
    "         .format(accuracy*100),\n",
    "        fontsize=16)\n",
    "\n",
    "plt.text(x=0.6,y=0.2,s=\"LogLoss   {:.4f}\"\\\n",
    "         .format(log_loss(y_true, y_pred)),\n",
    "        fontsize=16)\n",
    "\n",
    "plt.text(x=0.6,y=0.1,s=\"f1            {:.4f}\"\\\n",
    "         .format(f1_score(y_true, y_pred)),\n",
    "        fontsize=16)\n",
    "\n",
    "plt.xlabel('False positive rate')\n",
    "plt.ylabel('True positive rate')\n",
    "plt.title('ROC curve')\n",
    "plt.show()"
   ]
  },
  {
   "cell_type": "markdown",
   "metadata": {},
   "source": [
    "#### confirm that *sklearn.metrics.log_loss* conforms to the contest formula"
   ]
  },
  {
   "cell_type": "code",
   "execution_count": 38,
   "metadata": {
    "collapsed": false
   },
   "outputs": [
    {
     "data": {
      "text/plain": [
       "6.9558"
      ]
     },
     "execution_count": 38,
     "metadata": {},
     "output_type": "execute_result"
    }
   ],
   "source": [
    "def log_loss(y_true, y_pred):\n",
    "    \"\"\"\n",
    "    logloss formula\n",
    "    \"\"\"\n",
    "    import scipy\n",
    "    import math\n",
    "    \n",
    "    assert len(y_true)==len(y_pred)\n",
    "    \n",
    "    n     = len(y_true)\n",
    "    comps = []\n",
    "    \n",
    "    # prevent log(0/1): y_pred \\in [epsilon, 0.999]\n",
    "    epsilon = 1e-15\n",
    "    y_pred = scipy.maximum(epsilon, y_pred)\n",
    "    y_pred = scipy.minimum(1-epsilon, y_pred)\n",
    "    \n",
    "    for i in range(n):\n",
    "        comp1 =    y_true[i]    * math.log(  y_pred[i],     math.e)\n",
    "        comp2 = (1 - y_true[i]) * math.log((1 - y_pred[i]), math.e)\n",
    "        comps.append(comp1+comp2)\n",
    "    \n",
    "    return round(-sum(comps)/float(n),4)\n",
    "\n",
    "log_loss(y_true,y_pred)"
   ]
  },
  {
   "cell_type": "markdown",
   "metadata": {},
   "source": [
    "# --------------------------------------------------------------------------------------------"
   ]
  },
  {
   "cell_type": "markdown",
   "metadata": {
    "collapsed": true
   },
   "source": [
    "# Test Set Predictions"
   ]
  },
  {
   "cell_type": "markdown",
   "metadata": {},
   "source": [
    "## Read the test data"
   ]
  },
  {
   "cell_type": "code",
   "execution_count": 75,
   "metadata": {
    "collapsed": false
   },
   "outputs": [],
   "source": [
    "from load_blood_data import load_blood_data\n",
    "\n",
    "X_test, IDs = load_blood_data(train=False, SEED   = SEED, \n",
    "                                           scale  = scale,\n",
    "                                           minmax = minmax,\n",
    "                                           norm   = norm,\n",
    "                                           nointercept = nointercept,\n",
    "                                           engineering = engineering)"
   ]
  },
  {
   "cell_type": "markdown",
   "metadata": {},
   "source": [
    "# Predict the test set with the fitted model"
   ]
  },
  {
   "cell_type": "code",
   "execution_count": 76,
   "metadata": {
    "collapsed": false
   },
   "outputs": [],
   "source": [
    "y_pred        = clf.predict(X_test.values.astype(np.float32))\n",
    "y_pred_probs  = clf.predict_proba(X_test.values.astype(np.float32))\n",
    "donate_probs  = [prob[1] for prob in y_pred_probs]"
   ]
  },
  {
   "cell_type": "code",
   "execution_count": 77,
   "metadata": {
    "collapsed": false
   },
   "outputs": [
    {
     "name": "stdout",
     "output_type": "stream",
     "text": [
      "[1 0 0 0 1 1 0 0 0 0]\n",
      "[[ 0.48366207  0.51633793]\n",
      " [ 0.89925617  0.10074381]\n",
      " [ 0.70389879  0.29610121]\n",
      " [ 0.64729643  0.3527036 ]\n",
      " [ 0.43833625  0.56166375]\n",
      " [ 0.39687046  0.60312957]\n",
      " [ 0.65460432  0.34539565]\n",
      " [ 0.8029111   0.1970889 ]\n",
      " [ 0.99695975  0.00304023]\n",
      " [ 0.92962718  0.0703728 ]]\n",
      "[0.51633793, 0.10074381, 0.29610121, 0.3527036, 0.56166375, 0.60312957, 0.34539565, 0.1970889, 0.0030402278, 0.070372805]\n"
     ]
    }
   ],
   "source": [
    "print(y_pred[:10])\n",
    "print(y_pred_probs[:10])\n",
    "print(donate_probs[:10])"
   ]
  },
  {
   "cell_type": "markdown",
   "metadata": {},
   "source": [
    "# Create the submission file"
   ]
  },
  {
   "cell_type": "code",
   "execution_count": 78,
   "metadata": {
    "collapsed": false
   },
   "outputs": [],
   "source": [
    "assert len(IDs)==len(donate_probs)\n",
    "\n",
    "f = open(submission_filename, \"w\")\n",
    "\n",
    "f.write(\",Made Donation in March 2007\\n\")\n",
    "for ID, prob in zip(IDs, donate_probs):\n",
    "    f.write(\"{},{}\\n\".format(ID,prob))\n",
    "    \n",
    "f.close()"
   ]
  },
  {
   "cell_type": "code",
   "execution_count": null,
   "metadata": {
    "collapsed": true
   },
   "outputs": [],
   "source": []
  }
 ],
 "metadata": {
  "kernelspec": {
   "display_name": "Python 2",
   "language": "python",
   "name": "python2"
  },
  "language_info": {
   "codemirror_mode": {
    "name": "ipython",
    "version": 2
   },
   "file_extension": ".py",
   "mimetype": "text/x-python",
   "name": "python",
   "nbconvert_exporter": "python",
   "pygments_lexer": "ipython2",
   "version": "2.7.10"
  }
 },
 "nbformat": 4,
 "nbformat_minor": 0
}
