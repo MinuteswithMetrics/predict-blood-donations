{
 "cells": [
  {
   "cell_type": "markdown",
   "metadata": {},
   "source": [
    "# XGBoost"
   ]
  },
  {
   "cell_type": "code",
   "execution_count": 1,
   "metadata": {
    "collapsed": false
   },
   "outputs": [],
   "source": [
    "from __future__ import division\n",
    "from IPython.display import display\n",
    "from matplotlib      import pyplot as plt\n",
    "%matplotlib inline\n",
    "\n",
    "import numpy  as np\n",
    "import pandas as pd\n",
    "import random, sys, os\n",
    "\n",
    "import xgboost as xgb\n",
    "\n",
    "from sklearn.cross_validation import StratifiedKFold\n",
    "from sklearn.grid_search      import RandomizedSearchCV, GridSearchCV"
   ]
  },
  {
   "cell_type": "code",
   "execution_count": 2,
   "metadata": {
    "collapsed": true
   },
   "outputs": [],
   "source": [
    "SEED   = 97\n",
    "scale  = False \n",
    "minmax = False\n",
    "norm   = False\n",
    "nointercept = False\n",
    "\n",
    "submission_filename = \"../submissions/submission_XGBClassifier.csv\""
   ]
  },
  {
   "cell_type": "markdown",
   "metadata": {},
   "source": [
    "# Load the training data"
   ]
  },
  {
   "cell_type": "code",
   "execution_count": 3,
   "metadata": {
    "collapsed": false
   },
   "outputs": [],
   "source": [
    "from load_blood_data import load_blood_data\n",
    "\n",
    "y_train, X_train = load_blood_data(train=True, SEED   = SEED, \n",
    "                                               scale  = scale,\n",
    "                                               minmax = minmax,\n",
    "                                               norm   = norm,\n",
    "                                               nointercept = nointercept)"
   ]
  },
  {
   "cell_type": "code",
   "execution_count": 4,
   "metadata": {
    "collapsed": false,
    "scrolled": false
   },
   "outputs": [
    {
     "name": "stdout",
     "output_type": "stream",
     "text": [
      "CPU times: user 8 ms, sys: 4 ms, total: 12 ms\n",
      "Wall time: 11.1 ms\n"
     ]
    }
   ],
   "source": [
    "%%time\n",
    "\n",
    "SEED = 0\n",
    "\n",
    "random.seed(SEED)\n",
    "\n",
    "clf = xgb.XGBClassifier(learning_rate    = 0.1,\n",
    "                        n_estimators     = 1000, \n",
    "                        max_depth        = 3,\n",
    "                        subsample        = 1,\n",
    "                        colsample_bytree = 1,\n",
    "                        gamma            = 0, \n",
    "                        \n",
    "                        nthread          = 1, \n",
    "                        objective        = 'binary:logistic', \n",
    "                        min_child_weight = 1, \n",
    "                        max_delta_step   = 0, \n",
    "                        base_score       = 0.5, \n",
    "                        seed             = SEED,\n",
    "                        silent           = True,\n",
    "                        missing          = None)\n",
    "\n",
    "\n",
    "# StatifiedCV = StratifiedKFold(y            = y_train, \n",
    "#                               n_folds      = 10, \n",
    "#                               shuffle      = True, \n",
    "#                               random_state = SEED)\n",
    "\n",
    "# param_grid = dict(n_estimators     = [5, 10, 50, 75, 100],\n",
    "#                   max_depth        = [1, 2, 3, 4, 5, 6, 7],\n",
    "#                   subsample        = [1, 0.75, 0.5, 0.25],\n",
    "#                   colsample_bytree = [1, 0.75, 0.5, 0.25])\n",
    "\n",
    "# grid_clf = GridSearchCV(estimator  = clf, \n",
    "#                         param_grid = param_grid,\n",
    "#                         n_jobs     = 1,  \n",
    "#                         cv         = StatifiedCV,\n",
    "# #                         fit_params = dict(eval_metric           = 'auc',#logloss', \"error\", \"auc\"\n",
    "# #                                           eval_set              = [(X_train, y_train), (X_valid, y_valid)], \n",
    "# #                                           early_stopping_rounds = 10, \n",
    "# #                                           verbose               = False),\n",
    "#                         verbose    = 0\n",
    "#                        )\n",
    "\n",
    "# grid_clf.fit(X = X_train, y = y_train)\n",
    "\n",
    "# print(\"svc_params = {}\".format(grid_clf.best_params_))\n",
    "# print(\"score: {}\".format(round(grid_clf.best_score_, 4)))\n",
    "# print\n",
    "\n",
    "# clf = grid_clf.best_estimator_\n",
    "\n",
    "\n",
    "\n",
    "\n",
    "svc_params = {'n_estimators': 50, 'subsample': 0.25, 'colsample_bytree': 0.75, 'max_depth': 5}\n",
    "clf.set_params(**svc_params)\n",
    "clf.fit(X_train, y_train)"
   ]
  },
  {
   "cell_type": "code",
   "execution_count": 5,
   "metadata": {
    "collapsed": false
   },
   "outputs": [],
   "source": [
    "# from sklearn_utilities import GridSearchHeatmap\n",
    "\n",
    "# GridSearchHeatmap(grid_clf, y_key='learning_rate', x_key='n_estimators')\n",
    "\n",
    "# from sklearn_utilities import plot_validation_curves\n",
    "\n",
    "# plot_validation_curves(grid_clf, param_grid, X_train, y_train, ylim = (0.0, 1.05))"
   ]
  },
  {
   "cell_type": "code",
   "execution_count": 6,
   "metadata": {
    "collapsed": false
   },
   "outputs": [
    {
     "name": "stderr",
     "output_type": "stream",
     "text": [
      "/home/george/.local/lib/python2.7/site-packages/matplotlib/collections.py:590: FutureWarning: elementwise comparison failed; returning scalar instead, but in the future will perform elementwise comparison\n",
      "  if self._edgecolors == str('face'):\n"
     ]
    },
    {
     "data": {
      "image/png": "[encoded data removed]",
      "text/plain": [
       "<matplotlib.figure.Figure at 0x7f6626523910>"
      ]
     },
     "metadata": {},
     "output_type": "display_data"
    },
    {
     "name": "stdout",
     "output_type": "stream",
     "text": [
      "CPU times: user 252 ms, sys: 28 ms, total: 280 ms\n",
      "Wall time: 507 ms\n"
     ]
    }
   ],
   "source": [
    "%%time\n",
    "\n",
    "from sklearn_utilities import plot_learning_curve\n",
    "\n",
    "plot_learning_curve(estimator   = clf, \n",
    "                    title       = None, \n",
    "                    X           = X_train, \n",
    "                    y           = y_train, \n",
    "                    ylim        = (0.0, 1.10), \n",
    "                    cv          = StratifiedKFold(y            = y_train, \n",
    "                                                  n_folds      = 10, \n",
    "                                                  shuffle      = True, \n",
    "                                                  random_state = SEED), \n",
    "                    train_sizes = np.linspace(.1, 1.0, 5),\n",
    "                    n_jobs      = -1)\n",
    "\n",
    "plt.show()"
   ]
  },
  {
   "cell_type": "markdown",
   "metadata": {},
   "source": [
    "# Training set predictions"
   ]
  },
  {
   "cell_type": "code",
   "execution_count": 7,
   "metadata": {
    "collapsed": false
   },
   "outputs": [],
   "source": [
    "predicted_values = clf.predict(X_train)\n",
    "y_true, y_pred   = y_train, predicted_values\n",
    "\n",
    "predicted_probs  = clf.predict_proba(X_train)"
   ]
  },
  {
   "cell_type": "code",
   "execution_count": 8,
   "metadata": {
    "collapsed": false
   },
   "outputs": [
    {
     "name": "stdout",
     "output_type": "stream",
     "text": [
      "[[422  16]\n",
      " [ 75  63]]\n"
     ]
    },
    {
     "data": {
      "image/png": "[encoded data removed]",
      "text/plain": [
       "<matplotlib.figure.Figure at 0x7f6655abb150>"
      ]
     },
     "metadata": {},
     "output_type": "display_data"
    },
    {
     "name": "stdout",
     "output_type": "stream",
     "text": [
      "Accuracy 0.842, mis-class rate 0.158\n"
     ]
    }
   ],
   "source": [
    "from sklearn.metrics import confusion_matrix\n",
    "cm = confusion_matrix(y_true, y_pred, labels=None)\n",
    "print cm\n",
    "\n",
    "from sklearn_utilities import plot_confusion_matrix\n",
    "plot_confusion_matrix(cm, ['Did not Donate','Donated'])\n",
    "\n",
    "accuracy = round(np.trace(cm)/float(np.sum(cm)),4)\n",
    "misclass = 1 - accuracy\n",
    "print(\"Accuracy {}, mis-class rate {}\".format(accuracy,misclass))"
   ]
  },
  {
   "cell_type": "code",
   "execution_count": 9,
   "metadata": {
    "collapsed": false
   },
   "outputs": [
    {
     "data": {
      "image/png": "[encoded data removed]",
      "text/plain": [
       "<matplotlib.figure.Figure at 0x7f6655abb550>"
      ]
     },
     "metadata": {},
     "output_type": "display_data"
    }
   ],
   "source": [
    "from sklearn.metrics import roc_curve\n",
    "from sklearn.metrics import roc_auc_score\n",
    "from sklearn.metrics import log_loss\n",
    "from sklearn.metrics import f1_score\n",
    "\n",
    "fpr, tpr, thresholds = roc_curve(y_true, y_pred, pos_label=None)\n",
    "\n",
    "\n",
    "plt.figure(figsize=(10,6))\n",
    "plt.plot([0, 1], [0, 1], 'k--')\n",
    "plt.plot(fpr, tpr)\n",
    "\n",
    "plt.text(x=0.6,y=0.4,s=\"AUC         {:.4f}\"\\\n",
    "         .format(roc_auc_score(y_true, y_pred, average='macro')),\n",
    "        fontsize=16)\n",
    "\n",
    "plt.text(x=0.6,y=0.3,s=\"accuracy {:.2f}%\"\\\n",
    "         .format(accuracy*100),\n",
    "        fontsize=16)\n",
    "\n",
    "plt.text(x=0.6,y=0.2,s=\"LogLoss   {:.4f}\"\\\n",
    "         .format(log_loss(y_true, y_pred)),\n",
    "        fontsize=16)\n",
    "\n",
    "plt.text(x=0.6,y=0.1,s=\"f1            {:.4f}\"\\\n",
    "         .format(f1_score(y_true, y_pred)),\n",
    "        fontsize=16)\n",
    "\n",
    "plt.xlabel('False positive rate')\n",
    "plt.ylabel('True positive rate')\n",
    "plt.title('ROC curve')\n",
    "plt.show()"
   ]
  },
  {
   "cell_type": "markdown",
   "metadata": {},
   "source": [
    "# --------------------------------------------------------------------------------------------"
   ]
  },
  {
   "cell_type": "markdown",
   "metadata": {
    "collapsed": true
   },
   "source": [
    "# Test Set Predictions"
   ]
  },
  {
   "cell_type": "markdown",
   "metadata": {},
   "source": [
    "## Read the test file and abbreviate the column names"
   ]
  },
  {
   "cell_type": "code",
   "execution_count": 10,
   "metadata": {
    "collapsed": false
   },
   "outputs": [],
   "source": [
    "from load_blood_data import load_blood_data\n",
    "\n",
    "X_test, IDs = load_blood_data(train=False, SEED   = SEED, \n",
    "                                           scale  = scale,\n",
    "                                           minmax = minmax,\n",
    "                                           norm   = norm,\n",
    "                                           nointercept = nointercept)"
   ]
  },
  {
   "cell_type": "markdown",
   "metadata": {},
   "source": [
    "# Predict the test set with the fitted model"
   ]
  },
  {
   "cell_type": "code",
   "execution_count": 11,
   "metadata": {
    "collapsed": false
   },
   "outputs": [],
   "source": [
    "y_pred        = clf.predict(X_test)\n",
    "y_pred_probs  = clf.predict_proba(X_test)\n",
    "donate_probs  = [prob[1] for prob in y_pred_probs]"
   ]
  },
  {
   "cell_type": "code",
   "execution_count": 12,
   "metadata": {
    "collapsed": false
   },
   "outputs": [
    {
     "name": "stdout",
     "output_type": "stream",
     "text": [
      "[0 0 0 0 0 1 0 0 0 0]\n",
      "[[ 0.73011482  0.26988521]\n",
      " [ 0.7722584   0.22774163]\n",
      " [ 0.84537041  0.1546296 ]\n",
      " [ 0.7739979   0.22600208]\n",
      " [ 0.54700828  0.45299175]\n",
      " [ 0.32102549  0.67897451]\n",
      " [ 0.7370069   0.26299313]\n",
      " [ 0.92407358  0.07592643]\n",
      " [ 0.92249537  0.07750463]\n",
      " [ 0.92642456  0.07357541]]\n",
      "[0.26988521, 0.22774163, 0.1546296, 0.22600208, 0.45299175, 0.67897451, 0.26299313, 0.075926431, 0.077504635, 0.073575415]\n"
     ]
    }
   ],
   "source": [
    "print(y_pred[:10])\n",
    "print(y_pred_probs[:10])\n",
    "print(donate_probs[:10])"
   ]
  },
  {
   "cell_type": "markdown",
   "metadata": {},
   "source": [
    "# Create the submission file"
   ]
  },
  {
   "cell_type": "code",
   "execution_count": 13,
   "metadata": {
    "collapsed": false
   },
   "outputs": [],
   "source": [
    "assert len(IDs)==len(donate_probs)\n",
    "\n",
    "f = open(submission_filename, \"w\")\n",
    "\n",
    "f.write(\",Made Donation in March 2007\\n\")\n",
    "for ID, prob in zip(IDs, donate_probs):\n",
    "    f.write(\"{},{}\\n\".format(ID,prob))\n",
    "    \n",
    "f.close()"
   ]
  },
  {
   "cell_type": "code",
   "execution_count": null,
   "metadata": {
    "collapsed": true
   },
   "outputs": [],
   "source": []
  }
 ],
 "metadata": {
  "kernelspec": {
   "display_name": "Python 2",
   "language": "python",
   "name": "python2"
  },
  "language_info": {
   "codemirror_mode": {
    "name": "ipython",
    "version": 2
   },
   "file_extension": ".py",
   "mimetype": "text/x-python",
   "name": "python",
   "nbconvert_exporter": "python",
   "pygments_lexer": "ipython2",
   "version": "2.7.10"
  }
 },
 "nbformat": 4,
 "nbformat_minor": 0
}
