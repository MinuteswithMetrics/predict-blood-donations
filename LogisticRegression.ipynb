{
 "cells": [
  {
   "cell_type": "markdown",
   "metadata": {},
   "source": [
    "# LogisticRegression"
   ]
  },
  {
   "cell_type": "code",
   "execution_count": 13,
   "metadata": {
    "collapsed": true
   },
   "outputs": [],
   "source": [
    "from __future__ import division\n",
    "from IPython.display import display\n",
    "from matplotlib import pyplot as plt\n",
    "%matplotlib inline\n",
    "\n",
    "import numpy  as np\n",
    "import pandas as pd\n",
    "import random, sys, os, re\n",
    "\n",
    "\n",
    "from sklearn.linear_model     import LogisticRegression\n",
    "\n",
    "from sklearn.cross_validation import StratifiedKFold\n",
    "from sklearn.grid_search      import RandomizedSearchCV, GridSearchCV\n",
    "from sklearn.cross_validation import cross_val_predict, permutation_test_score"
   ]
  },
  {
   "cell_type": "code",
   "execution_count": 14,
   "metadata": {
    "collapsed": true
   },
   "outputs": [],
   "source": [
    "SEED   = 97\n",
    "scale  = False \n",
    "minmax = False\n",
    "norm   = False\n",
    "nointercept = True\n",
    "engineering = True\n",
    "\n",
    "N_CLASSES = 2\n",
    "\n",
    "submission_filename = \"../submissions/submission_LogisticRegression.csv\""
   ]
  },
  {
   "cell_type": "markdown",
   "metadata": {
    "collapsed": false,
    "scrolled": true
   },
   "source": [
    "# Load the training data"
   ]
  },
  {
   "cell_type": "code",
   "execution_count": 15,
   "metadata": {
    "collapsed": false
   },
   "outputs": [],
   "source": [
    "from load_blood_data import load_blood_data\n",
    "\n",
    "y_train, X_train = load_blood_data(train=True, SEED   = SEED, \n",
    "                                               scale  = scale,\n",
    "                                               minmax = minmax,\n",
    "                                               norm   = norm,\n",
    "                                               nointercept = nointercept,\n",
    "                                               engineering = engineering)"
   ]
  },
  {
   "cell_type": "markdown",
   "metadata": {},
   "source": [
    "# Fit the model"
   ]
  },
  {
   "cell_type": "code",
   "execution_count": 16,
   "metadata": {
    "collapsed": true
   },
   "outputs": [],
   "source": [
    "StatifiedCV = StratifiedKFold(y            = y_train, \n",
    "                              n_folds      = 10, \n",
    "                              shuffle      = True, \n",
    "                              random_state = SEED)"
   ]
  },
  {
   "cell_type": "code",
   "execution_count": 17,
   "metadata": {
    "collapsed": false
   },
   "outputs": [
    {
     "name": "stdout",
     "output_type": "stream",
     "text": [
      "CPU times: user 4 ms, sys: 0 ns, total: 4 ms\n",
      "Wall time: 2.38 ms\n"
     ]
    }
   ],
   "source": [
    "%%time\n",
    "\n",
    "random.seed(SEED)\n",
    "\n",
    "clf = LogisticRegression(penalty           = 'l2',          #  'l1', 'l2'\n",
    "                         dual              = False, \n",
    "                         C                 = 1.0, \n",
    "                         fit_intercept     = True,\n",
    "                         solver            = 'liblinear',   # 'newton-cg', 'lbfgs', 'liblinear', 'sag' \n",
    "                         max_iter          = 100, \n",
    "                         intercept_scaling = 1,\n",
    "                         \n",
    "                         tol               = 0.0001, \n",
    "                         class_weight      = None, \n",
    "                         random_state      = SEED, \n",
    "                         multi_class       = 'ovr', \n",
    "                         verbose           = 0, \n",
    "                         warm_start        = False, \n",
    "                         n_jobs            = -1)\n",
    "\n",
    "\n",
    "\n",
    "# param_grid = dict(C             = [0.0001, 0.001, 0.01, 0.1],\n",
    "#                   fit_intercept = [True, False],\n",
    "#                   penalty       = ['l1', 'l2'],\n",
    "#                   #solver        = ['newton-cg', 'lbfgs', 'liblinear', 'sag'],\n",
    "#                   max_iter      = [50, 100, 250])\n",
    "\n",
    "# grid_clf = GridSearchCV(estimator  = clf, \n",
    "#                         param_grid = param_grid,\n",
    "#                         n_jobs     = 1,  \n",
    "#                         cv         = StatifiedCV).fit(X_train, y_train)\n",
    "\n",
    "# print(\"clf_params = {}\".format(grid_clf.best_params_))\n",
    "# print(\"score: {}\".format(grid_clf.best_score_))\n",
    "\n",
    "# clf = grid_clf.best_estimator_\n",
    "\n",
    "\n",
    "\n",
    "\n",
    "clf_params = {'penalty': 'l2', 'C': 0.001, 'max_iter': 50, 'fit_intercept': True}\n",
    "clf.set_params(**clf_params)\n",
    "clf.fit(X_train, y_train)"
   ]
  },
  {
   "cell_type": "code",
   "execution_count": 18,
   "metadata": {
    "collapsed": false
   },
   "outputs": [],
   "source": [
    "# from sklearn_utilities import GridSearchHeatmap\n",
    "\n",
    "# GridSearchHeatmap(grid_clf, y_key='learning_rate', x_key='n_estimators')\n",
    "\n",
    "# from sklearn_utilities import plot_validation_curves\n",
    "\n",
    "# plot_validation_curves(grid_clf, param_grid, X_train, y_train, ylim = (0.0, 1.05))"
   ]
  },
  {
   "cell_type": "code",
   "execution_count": 19,
   "metadata": {
    "collapsed": false
   },
   "outputs": [
    {
     "data": {
      "image/png": "[encoded data removed]",
      "text/plain": [
       "<matplotlib.figure.Figure at 0x7f78227a67d0>"
      ]
     },
     "metadata": {},
     "output_type": "display_data"
    },
    {
     "name": "stdout",
     "output_type": "stream",
     "text": [
      "CPU times: user 224 ms, sys: 60 ms, total: 284 ms\n",
      "Wall time: 395 ms\n"
     ]
    }
   ],
   "source": [
    "%%time\n",
    "\n",
    "try:\n",
    "    from sklearn_utilities import plot_learning_curve\n",
    "except:\n",
    "    import imp, os\n",
    "    util = imp.load_source('sklearn_utilities', os.path.expanduser('~/Dropbox/Python/sklearn_utilities.py'))\n",
    "    from sklearn_utilities import plot_learning_curve\n",
    "\n",
    "plot_learning_curve(estimator   = clf, \n",
    "                    title       = None, \n",
    "                    X           = X_train, \n",
    "                    y           = y_train, \n",
    "                    ylim        = (0.0, 1.10), \n",
    "                    cv          = 10, \n",
    "                    train_sizes = np.linspace(.1, 1.0, 5),\n",
    "                    n_jobs      = -1)\n",
    "\n",
    "plt.show()"
   ]
  },
  {
   "cell_type": "markdown",
   "metadata": {},
   "source": [
    "# Training set predictions"
   ]
  },
  {
   "cell_type": "code",
   "execution_count": 20,
   "metadata": {
    "collapsed": false
   },
   "outputs": [
    {
     "name": "stdout",
     "output_type": "stream",
     "text": [
      "CPU times: user 64 ms, sys: 32 ms, total: 96 ms\n",
      "Wall time: 188 ms\n"
     ]
    }
   ],
   "source": [
    "%%time\n",
    "\n",
    "train_preds = cross_val_predict(estimator    = clf, \n",
    "                                X            = X_train, \n",
    "                                y            = y_train, \n",
    "                                cv           = StatifiedCV, \n",
    "                                n_jobs       = -1, \n",
    "                                verbose      = 0, \n",
    "                                fit_params   = None, \n",
    "                                pre_dispatch = '2*n_jobs')\n",
    "\n",
    "y_true, y_pred   = y_train, train_preds"
   ]
  },
  {
   "cell_type": "code",
   "execution_count": 21,
   "metadata": {
    "collapsed": false
   },
   "outputs": [
    {
     "name": "stdout",
     "output_type": "stream",
     "text": [
      "[[425  13]\n",
      " [119  19]]\n"
     ]
    },
    {
     "data": {
      "image/png": "[encoded data removed]",
      "text/plain": [
       "<matplotlib.figure.Figure at 0x7f781ee0bb10>"
      ]
     },
     "metadata": {},
     "output_type": "display_data"
    },
    {
     "name": "stdout",
     "output_type": "stream",
     "text": [
      "Accuracy 0.7708, mis-class rate 0.2292\n"
     ]
    }
   ],
   "source": [
    "from sklearn.metrics import confusion_matrix\n",
    "cm = confusion_matrix(y_true, y_pred, labels=None)\n",
    "print cm\n",
    "\n",
    "try:\n",
    "    from sklearn_utilities import plot_confusion_matrix\n",
    "except:\n",
    "    import imp, os\n",
    "    util = imp.load_source('sklearn_utilities', os.path.expanduser('~/Dropbox/Python/sklearn_utilities.py'))\n",
    "    from sklearn_utilities import plot_confusion_matrix\n",
    "\n",
    "plot_confusion_matrix(cm, ['Did not Donate','Donated'])\n",
    "\n",
    "accuracy = round(np.trace(cm)/float(np.sum(cm)),4)\n",
    "misclass = 1 - accuracy\n",
    "print(\"Accuracy {}, mis-class rate {}\".format(accuracy,misclass))"
   ]
  },
  {
   "cell_type": "code",
   "execution_count": 22,
   "metadata": {
    "collapsed": false
   },
   "outputs": [
    {
     "data": {
      "image/png": "[encoded data removed]",
      "text/plain": [
       "<matplotlib.figure.Figure at 0x7f78206e3890>"
      ]
     },
     "metadata": {},
     "output_type": "display_data"
    }
   ],
   "source": [
    "from sklearn.metrics import roc_curve\n",
    "from sklearn.metrics import roc_auc_score\n",
    "from sklearn.metrics import log_loss\n",
    "from sklearn.metrics import f1_score\n",
    "\n",
    "fpr, tpr, thresholds = roc_curve(y_true, y_pred, pos_label=None)\n",
    "\n",
    "\n",
    "plt.figure(figsize=(10,6))\n",
    "plt.plot([0, 1], [0, 1], 'k--')\n",
    "plt.plot(fpr, tpr)\n",
    "\n",
    "AUC = roc_auc_score(y_true, y_pred, average='macro')\n",
    "plt.text(x=0.6,y=0.4,s=\"AUC         {:.4f}\"\\\n",
    "         .format(AUC),\n",
    "        fontsize=16)\n",
    "\n",
    "plt.text(x=0.6,y=0.3,s=\"accuracy {:.2f}%\"\\\n",
    "         .format(accuracy*100),\n",
    "        fontsize=16)\n",
    "\n",
    "logloss = log_loss(y_true, y_pred)\n",
    "plt.text(x=0.6,y=0.2,s=\"LogLoss   {:.4f}\"\\\n",
    "         .format(logloss),\n",
    "        fontsize=16)\n",
    "\n",
    "f1 = f1_score(y_true, y_pred)\n",
    "plt.text(x=0.6,y=0.1,s=\"f1             {:.4f}\"\\\n",
    "         .format(f1),\n",
    "        fontsize=16)\n",
    "\n",
    "plt.xlabel('False positive rate')\n",
    "plt.ylabel('True positive rate')\n",
    "plt.title('ROC curve')\n",
    "plt.show()"
   ]
  },
  {
   "cell_type": "code",
   "execution_count": 23,
   "metadata": {
    "collapsed": false
   },
   "outputs": [
    {
     "data": {
      "image/png": "[encoded data removed]",
      "text/plain": [
       "<matplotlib.figure.Figure at 0x7f781ecd8150>"
      ]
     },
     "metadata": {},
     "output_type": "display_data"
    },
    {
     "name": "stdout",
     "output_type": "stream",
     "text": [
      "CPU times: user 368 ms, sys: 56 ms, total: 424 ms\n",
      "Wall time: 813 ms\n"
     ]
    }
   ],
   "source": [
    "%%time\n",
    "\n",
    "score, permutation_scores, pvalue = permutation_test_score(estimator      = clf, \n",
    "                                                           X              = X_train.values.astype(np.float32), \n",
    "                                                           y              = y_train, \n",
    "                                                           cv             = StatifiedCV, \n",
    "                                                           labels         = None,\n",
    "                                                           random_state   = SEED,\n",
    "                                                           verbose        = 0,\n",
    "                                                           n_permutations = 100, \n",
    "                                                           scoring        = None,\n",
    "                                                           n_jobs         = -1) \n",
    "\n",
    "plt.figure(figsize=(20,8))\n",
    "plt.hist(permutation_scores, 20, label='Permutation scores')\n",
    "\n",
    "ylim = plt.ylim()\n",
    "plt.plot(2 * [score], ylim, '--g', linewidth=3,\n",
    "         label='Classification Score (pvalue {:.4f})'.format(pvalue))\n",
    "         \n",
    "plt.plot(2 * [1. / N_CLASSES], ylim, 'r', linewidth=7, label='Luck')\n",
    "\n",
    "plt.ylim(ylim)\n",
    "plt.legend(loc='center',fontsize=16)\n",
    "plt.xlabel('Score')\n",
    "plt.show()\n",
    "\n",
    "# find mean and stdev of the scores\n",
    "from scipy.stats import norm\n",
    "mu, std = norm.fit(permutation_scores)"
   ]
  },
  {
   "cell_type": "code",
   "execution_count": 24,
   "metadata": {
    "collapsed": false
   },
   "outputs": [
    {
     "name": "stdout",
     "output_type": "stream",
     "text": [
      "LogisticRegression         ,        ,   0.7708 ,  7.9152 , 0.5540 , 0.2235 , 0.7601 , 0.0013\n"
     ]
    }
   ],
   "source": [
    "# format for scores.csv file\n",
    "import re\n",
    "algo = re.search(r\"submission_(.*?)\\.csv\", submission_filename).group(1)\n",
    "print(\"{: <26} ,        ,   {:.4f} ,  {:.4f} , {:.4f} , {:.4f} , {:.4f} , {:.4f}\"\\\n",
    "      .format(algo,accuracy,logloss,AUC,f1,mu,std))"
   ]
  },
  {
   "cell_type": "markdown",
   "metadata": {},
   "source": [
    "# Predict leaderboard score with linear regression"
   ]
  },
  {
   "cell_type": "code",
   "execution_count": 52,
   "metadata": {
    "collapsed": false
   },
   "outputs": [
    {
     "name": "stdout",
     "output_type": "stream",
     "text": [
      "The rpy2.ipython extension is already loaded. To reload it, use:\n",
      "  %reload_ext rpy2.ipython\n"
     ]
    }
   ],
   "source": [
    "# load the R extension\n",
    "%load_ext rpy2.ipython\n",
    "\n",
    "# see http://ipython.readthedocs.org/en/stable/config/extensions/index.html?highlight=rmagic\n",
    "# see http://rpy.sourceforge.net/rpy2/doc-2.4/html/interactive.html#module-rpy2.ipython.rmagic"
   ]
  },
  {
   "cell_type": "code",
   "execution_count": 53,
   "metadata": {
    "collapsed": false
   },
   "outputs": [],
   "source": [
    "# Import python variables into R\n",
    "%R -i accuracy,logloss,AUC,f1,mu,std"
   ]
  },
  {
   "cell_type": "code",
   "execution_count": 56,
   "metadata": {
    "collapsed": false
   },
   "outputs": [
    {
     "data": {
      "text/plain": [
       "     fit     lwr    upr\n",
       "1 0.3094 -0.4419 1.0608\n"
      ]
     },
     "metadata": {},
     "output_type": "display_data"
    }
   ],
   "source": [
    "%%R\n",
    "# read in the scores.csv file and perform a linear regression with it using this process's variables\n",
    "\n",
    "score_data = read.csv('../input/scores.csv')\n",
    "\n",
    "lm.fit     = lm(leaderboard_score ~ accuracy + logloss + AUC + f1 + mu + std, \n",
    "                data      = score_data, \n",
    "                na.action = na.omit)\n",
    "\n",
    "slm.fit = step(lm.fit, direction = \"both\", trace=0)\n",
    "\n",
    "predicted_leaderboard_score = predict(object   = slm.fit, \n",
    "                                      newdata  = data.frame(accuracy,logloss,AUC,f1,mu,std),\n",
    "                                      interval = \"prediction\", level = 0.99)\n",
    "\n",
    "print(round(predicted_leaderboard_score,4))"
   ]
  },
  {
   "cell_type": "markdown",
   "metadata": {},
   "source": [
    "# --------------------------------------------------------------------------------------------"
   ]
  },
  {
   "cell_type": "markdown",
   "metadata": {
    "collapsed": true
   },
   "source": [
    "# Test Set Predictions"
   ]
  },
  {
   "cell_type": "markdown",
   "metadata": {},
   "source": [
    "## Re-fit with the full training set"
   ]
  },
  {
   "cell_type": "code",
   "execution_count": 13,
   "metadata": {
    "collapsed": false
   },
   "outputs": [
    {
     "data": {
      "text/plain": [
       "LogisticRegression(C=0.001, class_weight=None, dual=False, fit_intercept=True,\n",
       "          intercept_scaling=1, max_iter=50, multi_class='ovr', n_jobs=-1,\n",
       "          penalty='l2', random_state=97, solver='liblinear', tol=0.0001,\n",
       "          verbose=0, warm_start=False)"
      ]
     },
     "execution_count": 13,
     "metadata": {},
     "output_type": "execute_result"
    }
   ],
   "source": [
    "clf.set_params(**clf_params)\n",
    "clf.fit(X_train, y_train)"
   ]
  },
  {
   "cell_type": "markdown",
   "metadata": {},
   "source": [
    "## Load the test data"
   ]
  },
  {
   "cell_type": "code",
   "execution_count": 14,
   "metadata": {
    "collapsed": false
   },
   "outputs": [],
   "source": [
    "from load_blood_data import load_blood_data\n",
    "\n",
    "X_test, IDs = load_blood_data(train=False, SEED   = SEED, \n",
    "                                           scale  = scale,\n",
    "                                           minmax = minmax,\n",
    "                                           norm   = norm,\n",
    "                                           nointercept = nointercept,\n",
    "                                           engineering = engineering)"
   ]
  },
  {
   "cell_type": "markdown",
   "metadata": {},
   "source": [
    "# Predict the test set with the fitted model"
   ]
  },
  {
   "cell_type": "code",
   "execution_count": 15,
   "metadata": {
    "collapsed": false
   },
   "outputs": [
    {
     "name": "stdout",
     "output_type": "stream",
     "text": [
      "[0 0 0 0 1 1 0 0 0 0]\n",
      "[[ 0.52391321  0.47608679]\n",
      " [ 0.87801332  0.12198668]\n",
      " [ 0.75376221  0.24623779]\n",
      " [ 0.65859459  0.34140541]\n",
      " [ 0.46953722  0.53046278]\n",
      " [ 0.26572178  0.73427822]\n",
      " [ 0.71737399  0.28262601]\n",
      " [ 0.85620693  0.14379307]\n",
      " [ 0.99785974  0.00214026]\n",
      " [ 0.94865092  0.05134908]]\n",
      "[0.47608679294525147, 0.12198667558389785, 0.24623778533435173, 0.34140540691254845, 0.53046277931110464, 0.73427821844799801, 0.28262600797941534, 0.14379306829920455, 0.0021402570175581294, 0.051349079332433545]\n"
     ]
    }
   ],
   "source": [
    "y_pred = clf.predict(X_test)\n",
    "print(y_pred[:10])\n",
    "\n",
    "try:\n",
    "    y_pred_probs  = clf.predict_proba(X_test)\n",
    "    print(y_pred_probs[:10])\n",
    "    donate_probs  = [prob[1] for prob in y_pred_probs]\n",
    "except Exception,e:\n",
    "    print(e)\n",
    "    donate_probs = [0.65 if x>0 else 1-0.65 for x in y_pred]\n",
    "    \n",
    "print(donate_probs[:10])"
   ]
  },
  {
   "cell_type": "markdown",
   "metadata": {},
   "source": [
    "# Create the submission file"
   ]
  },
  {
   "cell_type": "code",
   "execution_count": null,
   "metadata": {
    "collapsed": false
   },
   "outputs": [],
   "source": [
    "assert len(IDs)==len(donate_probs)\n",
    "\n",
    "f = open(submission_filename, \"w\")\n",
    "\n",
    "f.write(\",Made Donation in March 2007\\n\")\n",
    "for ID, prob in zip(IDs, donate_probs):\n",
    "    f.write(\"{},{}\\n\".format(ID,prob))\n",
    "    \n",
    "f.close()"
   ]
  },
  {
   "cell_type": "code",
   "execution_count": null,
   "metadata": {
    "collapsed": true
   },
   "outputs": [],
   "source": []
  }
 ],
 "metadata": {
  "kernelspec": {
   "display_name": "Python 2",
   "language": "python",
   "name": "python2"
  },
  "language_info": {
   "codemirror_mode": {
    "name": "ipython",
    "version": 2
   },
   "file_extension": ".py",
   "mimetype": "text/x-python",
   "name": "python",
   "nbconvert_exporter": "python",
   "pygments_lexer": "ipython2",
   "version": "2.7.10"
  }
 },
 "nbformat": 4,
 "nbformat_minor": 0
}
